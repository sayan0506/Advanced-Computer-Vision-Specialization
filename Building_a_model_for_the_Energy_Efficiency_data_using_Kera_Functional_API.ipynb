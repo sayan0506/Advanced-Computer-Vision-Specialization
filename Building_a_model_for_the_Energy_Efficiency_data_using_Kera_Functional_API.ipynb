{
  "nbformat": 4,
  "nbformat_minor": 0,
  "metadata": {
    "colab": {
      "name": "Building a model for the Energy Efficiency data using Kera Functional API.ipynb",
      "provenance": [],
      "authorship_tag": "ABX9TyOg5NnjJ/ofIb2a6KAc2RMT",
      "include_colab_link": true
    },
    "kernelspec": {
      "name": "python3",
      "display_name": "Python 3"
    }
  },
  "cells": [
    {
      "cell_type": "markdown",
      "metadata": {
        "id": "view-in-github",
        "colab_type": "text"
      },
      "source": [
        "<a href=\"https://colab.research.google.com/github/sayan0506/Tensorflow-Advanced-Techniques-Specialization/blob/main/Building_a_model_for_the_Energy_Efficiency_data_using_Kera_Functional_API.ipynb\" target=\"_parent\"><img src=\"https://colab.research.google.com/assets/colab-badge.svg\" alt=\"Open In Colab\"/></a>"
      ]
    },
    {
      "cell_type": "code",
      "metadata": {
        "id": "sex7JpvxgeuX"
      },
      "source": [
        "# checking tensorflow version\n",
        "try:\n",
        "  # tensorflow_version only exists in collab\n",
        "  %tensorflow_version 2.x\n",
        "except Exception:\n",
        "  pass"
      ],
      "execution_count": 2,
      "outputs": []
    },
    {
      "cell_type": "code",
      "metadata": {
        "id": "6nZsAJSoa7UG"
      },
      "source": [
        "# Importing modules\n",
        "import tensorflow as tf\n",
        "import numpy as np\n",
        "from matplotlib import pyplot as plt\n",
        "import pandas as pd\n",
        "from tensorflow.keras.models import Model\n",
        "from tensorflow.keras.layers import Dense, Input\n",
        "from sklearn.model_selection import train_test_split\n",
        "from tensorflow.python.keras.utils.vis_utils import plot_model\n",
        "\n",
        "# label formatting\n",
        "def format_output(data):\n",
        "  y1 = data.pop('Y1')\n",
        "  y1 = np.array(y1)\n",
        "  y2 = data.pop('Y2')\n",
        "  y2 = np.array(y2)\n",
        "  return y1, y2\n"
      ],
      "execution_count": 4,
      "outputs": []
    },
    {
      "cell_type": "code",
      "metadata": {
        "id": "Tijt1_8Vo6fn"
      },
      "source": [
        "# normalizing inputs\n",
        "def norm(x):\n",
        "  return (x - train_stats['mean'])/train_stats['std']"
      ],
      "execution_count": 5,
      "outputs": []
    },
    {
      "cell_type": "code",
      "metadata": {
        "id": "XC12tJpjpe-0"
      },
      "source": [
        "# true and predicted value plots\n",
        "def plot_diff(y_true, y_pred, title = \"\"):\n",
        "  plt.scatter(y_true, y_pred)\n",
        "  plt.title(title)\n",
        "  plt.xlabel('True Values')\n",
        "  plt.ylabel('Predictions')\n",
        "  plt.xlim(plt.xlim())\n",
        "  plt.ylim(plt.ylim())\n",
        "  plt.plot([-100, 100], [-100,100])\n",
        "  plt.show()\n",
        "\n",
        "# training metrices plot of the model\n",
        "def plot_metrices(metric_name, title, ylim = 5):\n",
        "  # y axis shows the loss\n",
        "  plt.title(title)\n",
        "  plt.ylim(0, ylim)\n",
        "  plt.plot(history.history[metric_name], color = 'blue', label = metric_name)\n",
        "  plt.plot(history.history['val_'+metric_name], color = 'green', label = 'val_' + metric_name)\n",
        "  plt.show()"
      ],
      "execution_count": 7,
      "outputs": []
    },
    {
      "cell_type": "code",
      "metadata": {
        "id": "_1J65HOnp0oe"
      },
      "source": [
        "# Get the data from UCI dataset\n",
        "URL = 'hhtps://archive'"
      ],
      "execution_count": null,
      "outputs": []
    }
  ]
}