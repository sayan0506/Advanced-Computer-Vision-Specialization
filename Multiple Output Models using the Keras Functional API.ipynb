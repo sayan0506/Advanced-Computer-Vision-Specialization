{
 "cells": [
  {
   "cell_type": "markdown",
   "metadata": {
    "colab_type": "text",
    "id": "ZL_6GK8qX35J"
   },
   "source": [
    "\n",
    "\n",
    "# Week 1: Multiple Output Models using the Keras Functional API\n",
    "\n",
    "Welcome to the first programming assignment of the course! Your task will be to use the Keras functional API to train a model to predict two outputs. For this lab, you will use the **[Wine Quality Dataset](https://archive.ics.uci.edu/ml/datasets/Wine+Quality)** from the **UCI machine learning repository**. It has separate datasets for red wine and white wine.\n",
    "\n",
    "Normally, the wines are classified into one of the quality ratings specified in the attributes. In this exercise, you will combine the two datasets to predict the wine quality and whether the wine is red or white solely from the attributes. \n",
    "\n",
    "You will model wine quality estimations as a regression problem and wine type detection as a binary classification problem.\n",
    "\n",
    "#### Please complete sections that are marked **(TODO)**"
   ]
  },
  {
   "cell_type": "markdown",
   "metadata": {
    "colab_type": "text",
    "id": "obdcD6urYBY9"
   },
   "source": [
    "## Imports"
   ]
  },
  {
   "cell_type": "code",
   "execution_count": 59,
   "metadata": {
    "colab": {},
    "colab_type": "code",
    "id": "t8N3pcTQ5oQI"
   },
   "outputs": [],
   "source": [
    "import tensorflow as tf\n",
    "from tensorflow.keras.models import Model\n",
    "from tensorflow.keras.layers import Dense, Input\n",
    "\n",
    "import numpy as np\n",
    "import matplotlib.pyplot as plt\n",
    "import pandas as pd\n",
    "from sklearn.model_selection import train_test_split\n",
    "from sklearn.metrics import confusion_matrix\n",
    "import itertools\n",
    "\n",
    "import utils"
   ]
  },
  {
   "cell_type": "markdown",
   "metadata": {
    "colab_type": "text",
    "id": "gQMERzWQYpgm"
   },
   "source": [
    "## Load Dataset\n",
    "\n",
    "\n",
    "You will now download the dataset from the [UCI Machine Learning Repository](https://archive.ics.uci.edu/ml/index.php). \n",
    "\n",
    "### Pre-process the white wine dataset (TODO)\n",
    "You will add a new column named `is_red` in your dataframe to indicate if the wine is white or red. \n",
    "- In the white wine dataset, you will fill the column `is_red` with  zeros (0)."
   ]
  },
  {
   "cell_type": "code",
   "execution_count": 60,
   "metadata": {
    "colab": {},
    "colab_type": "code",
    "deletable": false,
    "id": "2qYAjKXCd4RH",
    "nbgrader": {
     "cell_type": "code",
     "checksum": "cb9f284ba6255170fe04a309a407d72d",
     "grade": false,
     "grade_id": "cell-e5bfa0f152d9a21f",
     "locked": false,
     "schema_version": 3,
     "solution": true,
     "task": false
    }
   },
   "outputs": [],
   "source": [
    "## Please uncomment all lines in this cell and replace those marked with `# YOUR CODE HERE`.\n",
    "## You can select all lines in this code cell with Ctrl+A (Windows/Linux) or Cmd+A (Mac), then press Ctrl+/ (Windows/Linux) or Cmd+/ (Mac) to uncomment.\n",
    "\n",
    "\n",
    "\n",
    "# # URL of the white wine dataset\n",
    "URL = 'http://archive.ics.uci.edu/ml/machine-learning-databases/wine-quality/winequality-white.csv'\n",
    "\n",
    "# # load the dataset from the URL\n",
    "white_df = pd.read_csv(URL, sep=\";\")\n",
    "\n",
    "# # fill the `is_red` column with zeros.\n",
    "white_df[\"is_red\"] = np.zeros(len(white_df), dtype = np.int64)# YOUR CODE HERE\n",
    "\n",
    "# # keep only the first of duplicate items\n",
    "white_df = white_df.drop_duplicates(keep='first')\n"
   ]
  },
  {
   "cell_type": "code",
   "execution_count": 61,
   "metadata": {
    "deletable": false,
    "editable": false,
    "nbgrader": {
     "cell_type": "code",
     "checksum": "defe38d6ec58fd31cd67b89e46c4373f",
     "grade": true,
     "grade_id": "cell-30575e713b55fc51",
     "locked": true,
     "points": 1,
     "schema_version": 3,
     "solution": false,
     "task": false
    }
   },
   "outputs": [
    {
     "name": "stdout",
     "output_type": "stream",
     "text": [
      "\u001b[92m All public tests passed\n"
     ]
    }
   ],
   "source": [
    "# You can click `File -> Open` in the menu above and open the `utils.py` file \n",
    "# in case you want to inspect the unit tests being used for each graded function.\n",
    "\n",
    "utils.test_white_df(white_df)\n"
   ]
  },
  {
   "cell_type": "code",
   "execution_count": 62,
   "metadata": {
    "colab": {},
    "colab_type": "code",
    "id": "OQHK0ohBQRCk"
   },
   "outputs": [
    {
     "name": "stdout",
     "output_type": "stream",
     "text": [
      "8.8\n",
      "9.1\n"
     ]
    }
   ],
   "source": [
    "print(white_df.alcohol[0])\n",
    "print(white_df.alcohol[100])\n",
    "\n",
    "# EXPECTED OUTPUT\n",
    "# 8.8\n",
    "# 9.1"
   ]
  },
  {
   "cell_type": "markdown",
   "metadata": {},
   "source": [
    "### Pre-process the red wine dataset (TODO)\n",
    "- In the red wine dataset, you will fill in the column `is_red` with ones (1)."
   ]
  },
  {
   "cell_type": "code",
   "execution_count": 63,
   "metadata": {
    "colab": {},
    "colab_type": "code",
    "deletable": false,
    "id": "8y3QxKwBed8v",
    "nbgrader": {
     "cell_type": "code",
     "checksum": "be72275f78e2c2d0038dde9aa63f8d4f",
     "grade": false,
     "grade_id": "cell-e47a40f306593274",
     "locked": false,
     "schema_version": 3,
     "solution": true,
     "task": false
    }
   },
   "outputs": [],
   "source": [
    "## Please uncomment all lines in this cell and replace those marked with `# YOUR CODE HERE`.\n",
    "## You can select all lines in this code cell with Ctrl+A (Windows/Linux) or Cmd+A (Mac), then press Ctrl+/ (Windows/Linux) or Cmd+/ (Mac) to uncomment.\n",
    "\n",
    "\n",
    "\n",
    "# # URL of the red wine dataset\n",
    "URL = 'http://archive.ics.uci.edu/ml/machine-learning-databases/wine-quality/winequality-red.csv'\n",
    "\n",
    "# # load the dataset from the URL\n",
    "red_df = pd.read_csv(URL, sep=\";\")\n",
    "\n",
    "# # fill the `is_red` column with ones.\n",
    "red_df[\"is_red\"] = np.ones(len(red_df), dtype = np.int64)# YOUR CODE HERE\n",
    "\n",
    "# # keep only the first of duplicate items\n",
    "red_df = red_df.drop_duplicates(keep='first')\n"
   ]
  },
  {
   "cell_type": "code",
   "execution_count": 64,
   "metadata": {
    "deletable": false,
    "editable": false,
    "nbgrader": {
     "cell_type": "code",
     "checksum": "d8e0c91b0fd668b63ba74a8f2f958b59",
     "grade": true,
     "grade_id": "cell-2a75937adcc0c25b",
     "locked": true,
     "points": 1,
     "schema_version": 3,
     "solution": false,
     "task": false
    }
   },
   "outputs": [
    {
     "name": "stdout",
     "output_type": "stream",
     "text": [
      "\u001b[92m All public tests passed\n"
     ]
    }
   ],
   "source": [
    "utils.test_red_df(red_df)\n"
   ]
  },
  {
   "cell_type": "code",
   "execution_count": 65,
   "metadata": {
    "colab": {},
    "colab_type": "code",
    "id": "zsB3LUzNQpo_"
   },
   "outputs": [
    {
     "name": "stdout",
     "output_type": "stream",
     "text": [
      "9.4\n",
      "10.2\n"
     ]
    }
   ],
   "source": [
    "print(red_df.alcohol[0])\n",
    "print(red_df.alcohol[100])\n",
    "\n",
    "# EXPECTED OUTPUT\n",
    "# 9.4\n",
    "# 10.2"
   ]
  },
  {
   "cell_type": "markdown",
   "metadata": {
    "colab_type": "text",
    "id": "2G8B-NYuM6-f"
   },
   "source": [
    "### Concatenate the datasets\n",
    "\n",
    "Next, concatenate the red and white wine dataframes."
   ]
  },
  {
   "cell_type": "code",
   "execution_count": 66,
   "metadata": {
    "colab": {},
    "colab_type": "code",
    "id": "YpQrOjJbfN3m"
   },
   "outputs": [],
   "source": [
    "df = pd.concat([red_df, white_df], ignore_index=True)"
   ]
  },
  {
   "cell_type": "code",
   "execution_count": 67,
   "metadata": {
    "colab": {},
    "colab_type": "code",
    "id": "Se2dTmThQyjb"
   },
   "outputs": [
    {
     "name": "stdout",
     "output_type": "stream",
     "text": [
      "9.4\n",
      "9.5\n"
     ]
    }
   ],
   "source": [
    "print(df.alcohol[0])\n",
    "print(df.alcohol[100])\n",
    "\n",
    "# EXPECTED OUTPUT\n",
    "# 9.4\n",
    "# 9.5"
   ]
  },
  {
   "cell_type": "code",
   "execution_count": 68,
   "metadata": {
    "colab": {},
    "colab_type": "code",
    "id": "wx6y3rPpQv4k"
   },
   "outputs": [],
   "source": [
    "# NOTE: In a real-world scenario, you should shuffle the data.\n",
    "# YOU ARE NOT going to do that here because we want to test\n",
    "# with deterministic data. But if you want the code to do it,\n",
    "# it's in the commented line below:\n",
    "\n",
    "#df = df.iloc[np.random.permutation(len(df))]"
   ]
  },
  {
   "cell_type": "markdown",
   "metadata": {
    "colab_type": "text",
    "id": "-EqIcbg5M_n1"
   },
   "source": [
    "This will chart the quality of the wines."
   ]
  },
  {
   "cell_type": "code",
   "execution_count": 69,
   "metadata": {
    "colab": {},
    "colab_type": "code",
    "id": "IsvK0-Sgy17C"
   },
   "outputs": [
    {
     "data": {
      "image/png": "[encoded data removed]",
      "text/plain": [
       "<Figure size 432x288 with 1 Axes>"
      ]
     },
     "metadata": {
      "needs_background": "light"
     },
     "output_type": "display_data"
    }
   ],
   "source": [
    "df['quality'].hist(bins=20);"
   ]
  },
  {
   "cell_type": "markdown",
   "metadata": {
    "colab_type": "text",
    "id": "Nut1rmYLzf-p"
   },
   "source": [
    "### Imbalanced data (TODO)\n",
    "You can see from the plot above that the wine quality dataset is imbalanced. \n",
    "- Since there are very few observations with quality equal to 3, 4, 8 and 9, you can drop these observations from your dataset. \n",
    "- You can do this by removing data belonging to all classes except those > 4 and < 8."
   ]
  },
  {
   "cell_type": "code",
   "execution_count": 70,
   "metadata": {
    "colab": {},
    "colab_type": "code",
    "deletable": false,
    "id": "doH9_-gnf3sz",
    "nbgrader": {
     "cell_type": "code",
     "checksum": "d9ba9fc3a3ca02ccc567be33652b80fe",
     "grade": false,
     "grade_id": "cell-6a3e9db696f6827b",
     "locked": false,
     "schema_version": 3,
     "solution": true,
     "task": false
    }
   },
   "outputs": [],
   "source": [
    "## Please uncomment all lines in this cell and replace those marked with `# YOUR CODE HERE`.\n",
    "## You can select all lines in this code cell with Ctrl+A (Windows/Linux) or Cmd+A (Mac), then press Ctrl+/ (Windows/Linux) or Cmd+/ (Mac) to uncomment.\n",
    "\n",
    "\n",
    "\n",
    "# # get data with wine quality greater than 4 and less than 8\n",
    "df = df[(df['quality'] > 4) & (df['quality'] < 8)]\n",
    "\n",
    "# # reset index and drop the old one\n",
    "df = df.reset_index(drop=True)"
   ]
  },
  {
   "cell_type": "code",
   "execution_count": 71,
   "metadata": {
    "deletable": false,
    "editable": false,
    "nbgrader": {
     "cell_type": "code",
     "checksum": "281e1d86a4803560ed5892cd7eda4c01",
     "grade": true,
     "grade_id": "cell-aed3da719d4682c7",
     "locked": true,
     "points": 1,
     "schema_version": 3,
     "solution": false,
     "task": false
    }
   },
   "outputs": [
    {
     "name": "stdout",
     "output_type": "stream",
     "text": [
      "\u001b[92m All public tests passed\n"
     ]
    }
   ],
   "source": [
    "utils.test_df_drop(df)\n",
    "\n"
   ]
  },
  {
   "cell_type": "code",
   "execution_count": 72,
   "metadata": {
    "colab": {},
    "colab_type": "code",
    "id": "xNR1iAlMRPXO"
   },
   "outputs": [
    {
     "name": "stdout",
     "output_type": "stream",
     "text": [
      "9.4\n",
      "10.9\n"
     ]
    }
   ],
   "source": [
    "print(df.alcohol[0])\n",
    "print(df.alcohol[100])\n",
    "\n",
    "# EXPECTED OUTPUT\n",
    "# 9.4\n",
    "# 10.9"
   ]
  },
  {
   "cell_type": "markdown",
   "metadata": {
    "colab_type": "text",
    "id": "cwhuRpnVRTzG"
   },
   "source": [
    "You can plot again to see the new range of data and quality"
   ]
  },
  {
   "cell_type": "code",
   "execution_count": 73,
   "metadata": {
    "colab": {},
    "colab_type": "code",
    "id": "857ygzZiLgGg"
   },
   "outputs": [
    {
     "data": {
      "image/png": "[encoded data removed]",
      "text/plain": [
       "<Figure size 432x288 with 1 Axes>"
      ]
     },
     "metadata": {
      "needs_background": "light"
     },
     "output_type": "display_data"
    }
   ],
   "source": [
    "df['quality'].hist(bins=20);"
   ]
  },
  {
   "cell_type": "markdown",
   "metadata": {
    "colab_type": "text",
    "id": "n3k0vqSsp84t"
   },
   "source": [
    "### Train Test Split (TODO)\n",
    "\n",
    "Next, you can split the datasets into training, test and validation datasets.\n",
    "- The data frame should be split 80:20 into `train` and `test` sets.\n",
    "- The resulting `train` should then be split 80:20 into `train` and `val` sets.\n",
    "- The `train_test_split` parameter `test_size` takes a float value that ranges between 0. and 1, and represents the proportion of the dataset that is allocated to the test set.  The rest of the data is allocated to the training set."
   ]
  },
  {
   "cell_type": "code",
   "execution_count": 74,
   "metadata": {
    "colab": {},
    "colab_type": "code",
    "deletable": false,
    "id": "PAVIf2-fgRVY",
    "nbgrader": {
     "cell_type": "code",
     "checksum": "7f5738f4fb51d65adc9a8acbdf2b9970",
     "grade": false,
     "grade_id": "cell-91946cadf745206b",
     "locked": false,
     "schema_version": 3,
     "solution": true,
     "task": false
    }
   },
   "outputs": [],
   "source": [
    "## Please uncomment all lines in this cell and replace those marked with `# YOUR CODE HERE`.\n",
    "## You can select all lines in this code cell with Ctrl+A (Windows/Linux) or Cmd+A (Mac), then press Ctrl+/ (Windows/Linux) or Cmd+/ (Mac) to uncomment.\n",
    "\n",
    "\n",
    "\n",
    "## Please do not change the random_state parameter. This is needed for grading.\n",
    "\n",
    "# # split df into 80:20 train and test sets\n",
    "train, test = train_test_split(df, test_size=0.20, random_state = 1)\n",
    "                               \n",
    "# # split train into 80:20 train and val sets\n",
    "train, val = train_test_split(train, test_size=0.20, random_state = 1)"
   ]
  },
  {
   "cell_type": "code",
   "execution_count": 75,
   "metadata": {
    "colab": {},
    "colab_type": "code",
    "deletable": false,
    "editable": false,
    "id": "57h9LcEzRWpk",
    "nbgrader": {
     "cell_type": "code",
     "checksum": "42adbe9e66efac7c7a5f8cd73ac92f22",
     "grade": true,
     "grade_id": "cell-64b8b38cd0b965f6",
     "locked": true,
     "points": 1,
     "schema_version": 3,
     "solution": false,
     "task": false
    }
   },
   "outputs": [
    {
     "name": "stdout",
     "output_type": "stream",
     "text": [
      "\u001b[92m All public tests passed\n"
     ]
    }
   ],
   "source": [
    "utils.test_data_sizes(train.size, test.size, val.size)\n",
    "\n"
   ]
  },
  {
   "cell_type": "markdown",
   "metadata": {
    "colab_type": "text",
    "id": "RwTNu4KFqG-K"
   },
   "source": [
    "Here's where you can explore the training stats. You can pop the labels 'is_red' and 'quality' from the data as these will be used as the labels\n"
   ]
  },
  {
   "cell_type": "code",
   "execution_count": 76,
   "metadata": {
    "colab": {},
    "colab_type": "code",
    "id": "Y_afyhhHM6WQ"
   },
   "outputs": [],
   "source": [
    "train_stats = train.describe()\n",
    "train_stats.pop('is_red')\n",
    "train_stats.pop('quality')\n",
    "train_stats = train_stats.transpose()"
   ]
  },
  {
   "cell_type": "markdown",
   "metadata": {
    "colab_type": "text",
    "id": "ahvbYm4fNqSt"
   },
   "source": [
    "Explore the training stats!"
   ]
  },
  {
   "cell_type": "code",
   "execution_count": 77,
   "metadata": {
    "colab": {},
    "colab_type": "code",
    "id": "n_gAtPjZ0otF"
   },
   "outputs": [
    {
     "data": {
      "text/html": [
       "<div>\n",
       "<style scoped>\n",
       "    .dataframe tbody tr th:only-of-type {\n",
       "        vertical-align: middle;\n",
       "    }\n",
       "\n",
       "    .dataframe tbody tr th {\n",
       "        vertical-align: top;\n",
       "    }\n",
       "\n",
       "    .dataframe thead th {\n",
       "        text-align: right;\n",
       "    }\n",
       "</style>\n",
       "<table border=\"1\" class=\"dataframe\">\n",
       "  <thead>\n",
       "    <tr style=\"text-align: right;\">\n",
       "      <th></th>\n",
       "      <th>count</th>\n",
       "      <th>mean</th>\n",
       "      <th>std</th>\n",
       "      <th>min</th>\n",
       "      <th>25%</th>\n",
       "      <th>50%</th>\n",
       "      <th>75%</th>\n",
       "      <th>max</th>\n",
       "    </tr>\n",
       "  </thead>\n",
       "  <tbody>\n",
       "    <tr>\n",
       "      <th>fixed acidity</th>\n",
       "      <td>3155.0</td>\n",
       "      <td>7.221616</td>\n",
       "      <td>1.325297</td>\n",
       "      <td>3.80000</td>\n",
       "      <td>6.40000</td>\n",
       "      <td>7.00000</td>\n",
       "      <td>7.7000</td>\n",
       "      <td>15.60000</td>\n",
       "    </tr>\n",
       "    <tr>\n",
       "      <th>volatile acidity</th>\n",
       "      <td>3155.0</td>\n",
       "      <td>0.338929</td>\n",
       "      <td>0.162476</td>\n",
       "      <td>0.08000</td>\n",
       "      <td>0.23000</td>\n",
       "      <td>0.29000</td>\n",
       "      <td>0.4000</td>\n",
       "      <td>1.24000</td>\n",
       "    </tr>\n",
       "    <tr>\n",
       "      <th>citric acid</th>\n",
       "      <td>3155.0</td>\n",
       "      <td>0.321569</td>\n",
       "      <td>0.147970</td>\n",
       "      <td>0.00000</td>\n",
       "      <td>0.25000</td>\n",
       "      <td>0.31000</td>\n",
       "      <td>0.4000</td>\n",
       "      <td>1.66000</td>\n",
       "    </tr>\n",
       "    <tr>\n",
       "      <th>residual sugar</th>\n",
       "      <td>3155.0</td>\n",
       "      <td>5.155911</td>\n",
       "      <td>4.639632</td>\n",
       "      <td>0.60000</td>\n",
       "      <td>1.80000</td>\n",
       "      <td>2.80000</td>\n",
       "      <td>7.6500</td>\n",
       "      <td>65.80000</td>\n",
       "    </tr>\n",
       "    <tr>\n",
       "      <th>chlorides</th>\n",
       "      <td>3155.0</td>\n",
       "      <td>0.056976</td>\n",
       "      <td>0.036802</td>\n",
       "      <td>0.01200</td>\n",
       "      <td>0.03800</td>\n",
       "      <td>0.04700</td>\n",
       "      <td>0.0660</td>\n",
       "      <td>0.61100</td>\n",
       "    </tr>\n",
       "    <tr>\n",
       "      <th>free sulfur dioxide</th>\n",
       "      <td>3155.0</td>\n",
       "      <td>30.388590</td>\n",
       "      <td>17.236784</td>\n",
       "      <td>1.00000</td>\n",
       "      <td>17.00000</td>\n",
       "      <td>28.00000</td>\n",
       "      <td>41.0000</td>\n",
       "      <td>131.00000</td>\n",
       "    </tr>\n",
       "    <tr>\n",
       "      <th>total sulfur dioxide</th>\n",
       "      <td>3155.0</td>\n",
       "      <td>115.062282</td>\n",
       "      <td>56.706617</td>\n",
       "      <td>6.00000</td>\n",
       "      <td>75.00000</td>\n",
       "      <td>117.00000</td>\n",
       "      <td>156.0000</td>\n",
       "      <td>344.00000</td>\n",
       "    </tr>\n",
       "    <tr>\n",
       "      <th>density</th>\n",
       "      <td>3155.0</td>\n",
       "      <td>0.994633</td>\n",
       "      <td>0.003005</td>\n",
       "      <td>0.98711</td>\n",
       "      <td>0.99232</td>\n",
       "      <td>0.99481</td>\n",
       "      <td>0.9968</td>\n",
       "      <td>1.03898</td>\n",
       "    </tr>\n",
       "    <tr>\n",
       "      <th>pH</th>\n",
       "      <td>3155.0</td>\n",
       "      <td>3.223201</td>\n",
       "      <td>0.161272</td>\n",
       "      <td>2.72000</td>\n",
       "      <td>3.11000</td>\n",
       "      <td>3.21000</td>\n",
       "      <td>3.3300</td>\n",
       "      <td>4.01000</td>\n",
       "    </tr>\n",
       "    <tr>\n",
       "      <th>sulphates</th>\n",
       "      <td>3155.0</td>\n",
       "      <td>0.534051</td>\n",
       "      <td>0.149149</td>\n",
       "      <td>0.22000</td>\n",
       "      <td>0.43000</td>\n",
       "      <td>0.51000</td>\n",
       "      <td>0.6000</td>\n",
       "      <td>1.95000</td>\n",
       "    </tr>\n",
       "    <tr>\n",
       "      <th>alcohol</th>\n",
       "      <td>3155.0</td>\n",
       "      <td>10.504466</td>\n",
       "      <td>1.154654</td>\n",
       "      <td>8.50000</td>\n",
       "      <td>9.50000</td>\n",
       "      <td>10.30000</td>\n",
       "      <td>11.3000</td>\n",
       "      <td>14.00000</td>\n",
       "    </tr>\n",
       "  </tbody>\n",
       "</table>\n",
       "</div>"
      ],
      "text/plain": [
       "                       count        mean        std      min       25%  \\\n",
       "fixed acidity         3155.0    7.221616   1.325297  3.80000   6.40000   \n",
       "volatile acidity      3155.0    0.338929   0.162476  0.08000   0.23000   \n",
       "citric acid           3155.0    0.321569   0.147970  0.00000   0.25000   \n",
       "residual sugar        3155.0    5.155911   4.639632  0.60000   1.80000   \n",
       "chlorides             3155.0    0.056976   0.036802  0.01200   0.03800   \n",
       "free sulfur dioxide   3155.0   30.388590  17.236784  1.00000  17.00000   \n",
       "total sulfur dioxide  3155.0  115.062282  56.706617  6.00000  75.00000   \n",
       "density               3155.0    0.994633   0.003005  0.98711   0.99232   \n",
       "pH                    3155.0    3.223201   0.161272  2.72000   3.11000   \n",
       "sulphates             3155.0    0.534051   0.149149  0.22000   0.43000   \n",
       "alcohol               3155.0   10.504466   1.154654  8.50000   9.50000   \n",
       "\n",
       "                            50%       75%        max  \n",
       "fixed acidity           7.00000    7.7000   15.60000  \n",
       "volatile acidity        0.29000    0.4000    1.24000  \n",
       "citric acid             0.31000    0.4000    1.66000  \n",
       "residual sugar          2.80000    7.6500   65.80000  \n",
       "chlorides               0.04700    0.0660    0.61100  \n",
       "free sulfur dioxide    28.00000   41.0000  131.00000  \n",
       "total sulfur dioxide  117.00000  156.0000  344.00000  \n",
       "density                 0.99481    0.9968    1.03898  \n",
       "pH                      3.21000    3.3300    4.01000  \n",
       "sulphates               0.51000    0.6000    1.95000  \n",
       "alcohol                10.30000   11.3000   14.00000  "
      ]
     },
     "execution_count": 77,
     "metadata": {},
     "output_type": "execute_result"
    }
   ],
   "source": [
    "train_stats"
   ]
  },
  {
   "cell_type": "markdown",
   "metadata": {
    "colab_type": "text",
    "id": "bGPvt9jir_HC"
   },
   "source": [
    "### Get the labels (TODO)\n",
    "\n",
    "The features and labels are currently in the same dataframe.\n",
    "- You will want to store the label columns `is_red` and `quality` separately from the feature columns.  \n",
    "- The following function, `format_output`, gets these two columns from the dataframe (it's given to you).\n",
    "- `format_output` also formats the data into numpy arrays. \n",
    "- Please use the `format_output` and apply it to the `train`, `val` and `test` sets to get dataframes for the labels."
   ]
  },
  {
   "cell_type": "code",
   "execution_count": 78,
   "metadata": {
    "colab": {},
    "colab_type": "code",
    "id": "Z_fs14XQqZVP"
   },
   "outputs": [],
   "source": [
    "def format_output(data):\n",
    "    is_red = data.pop('is_red')\n",
    "    is_red = np.array(is_red)\n",
    "    quality = data.pop('quality')\n",
    "    quality = np.array(quality)\n",
    "    return (quality, is_red)"
   ]
  },
  {
   "cell_type": "code",
   "execution_count": 79,
   "metadata": {
    "colab": {},
    "colab_type": "code",
    "deletable": false,
    "id": "8L3ZZe1fQicm",
    "nbgrader": {
     "cell_type": "code",
     "checksum": "7a86809e54895a816434c48dc903f55d",
     "grade": false,
     "grade_id": "cell-5c30fa2c2a354b0f",
     "locked": false,
     "schema_version": 3,
     "solution": true,
     "task": false
    }
   },
   "outputs": [],
   "source": [
    "## Please uncomment all lines in this cell and replace those marked with `# YOUR CODE HERE`.\n",
    "## You can select all lines in this code cell with Ctrl+A (Windows/Linux) or Cmd+A (Mac), then press Ctrl+/ (Windows/Linux) or Cmd+/ (Mac) to uncomment.\n",
    "\n",
    "\n",
    "\n",
    "# # format the output of the train set\n",
    "train_Y = format_output(train)\n",
    "\n",
    "# # format the output of the val set\n",
    "val_Y = format_output(val)\n",
    "    \n",
    "# # format the output of the test set\n",
    "test_Y = format_output(test)"
   ]
  },
  {
   "cell_type": "code",
   "execution_count": 80,
   "metadata": {
    "deletable": false,
    "editable": false,
    "nbgrader": {
     "cell_type": "code",
     "checksum": "359cabbafaed14ec9bbc1e57a7b6f32c",
     "grade": true,
     "grade_id": "cell-4977d8befb80f56b",
     "locked": true,
     "points": 1,
     "schema_version": 3,
     "solution": false,
     "task": false
    }
   },
   "outputs": [
    {
     "name": "stdout",
     "output_type": "stream",
     "text": [
      "\u001b[92m All public tests passed\n"
     ]
    }
   ],
   "source": [
    "utils.test_format_output(df, train_Y, val_Y, test_Y)"
   ]
  },
  {
   "cell_type": "markdown",
   "metadata": {},
   "source": [
    "Notice that after you get the labels, the `train`, `val` and `test` dataframes no longer contain the label columns, and contain just the feature columns.\n",
    "- This is because you used `.pop` in the `format_output` function."
   ]
  },
  {
   "cell_type": "code",
   "execution_count": 81,
   "metadata": {},
   "outputs": [
    {
     "data": {
      "text/html": [
       "<div>\n",
       "<style scoped>\n",
       "    .dataframe tbody tr th:only-of-type {\n",
       "        vertical-align: middle;\n",
       "    }\n",
       "\n",
       "    .dataframe tbody tr th {\n",
       "        vertical-align: top;\n",
       "    }\n",
       "\n",
       "    .dataframe thead th {\n",
       "        text-align: right;\n",
       "    }\n",
       "</style>\n",
       "<table border=\"1\" class=\"dataframe\">\n",
       "  <thead>\n",
       "    <tr style=\"text-align: right;\">\n",
       "      <th></th>\n",
       "      <th>fixed acidity</th>\n",
       "      <th>volatile acidity</th>\n",
       "      <th>citric acid</th>\n",
       "      <th>residual sugar</th>\n",
       "      <th>chlorides</th>\n",
       "      <th>free sulfur dioxide</th>\n",
       "      <th>total sulfur dioxide</th>\n",
       "      <th>density</th>\n",
       "      <th>pH</th>\n",
       "      <th>sulphates</th>\n",
       "      <th>alcohol</th>\n",
       "    </tr>\n",
       "  </thead>\n",
       "  <tbody>\n",
       "    <tr>\n",
       "      <th>225</th>\n",
       "      <td>7.5</td>\n",
       "      <td>0.65</td>\n",
       "      <td>0.18</td>\n",
       "      <td>7.0</td>\n",
       "      <td>0.088</td>\n",
       "      <td>27.0</td>\n",
       "      <td>94.0</td>\n",
       "      <td>0.99915</td>\n",
       "      <td>3.38</td>\n",
       "      <td>0.77</td>\n",
       "      <td>9.4</td>\n",
       "    </tr>\n",
       "    <tr>\n",
       "      <th>3557</th>\n",
       "      <td>6.3</td>\n",
       "      <td>0.27</td>\n",
       "      <td>0.29</td>\n",
       "      <td>12.2</td>\n",
       "      <td>0.044</td>\n",
       "      <td>59.0</td>\n",
       "      <td>196.0</td>\n",
       "      <td>0.99782</td>\n",
       "      <td>3.14</td>\n",
       "      <td>0.40</td>\n",
       "      <td>8.8</td>\n",
       "    </tr>\n",
       "    <tr>\n",
       "      <th>3825</th>\n",
       "      <td>8.8</td>\n",
       "      <td>0.27</td>\n",
       "      <td>0.25</td>\n",
       "      <td>5.0</td>\n",
       "      <td>0.024</td>\n",
       "      <td>52.0</td>\n",
       "      <td>99.0</td>\n",
       "      <td>0.99250</td>\n",
       "      <td>2.87</td>\n",
       "      <td>0.49</td>\n",
       "      <td>11.4</td>\n",
       "    </tr>\n",
       "    <tr>\n",
       "      <th>1740</th>\n",
       "      <td>6.4</td>\n",
       "      <td>0.45</td>\n",
       "      <td>0.07</td>\n",
       "      <td>1.1</td>\n",
       "      <td>0.030</td>\n",
       "      <td>10.0</td>\n",
       "      <td>131.0</td>\n",
       "      <td>0.99050</td>\n",
       "      <td>2.97</td>\n",
       "      <td>0.28</td>\n",
       "      <td>10.8</td>\n",
       "    </tr>\n",
       "    <tr>\n",
       "      <th>1221</th>\n",
       "      <td>7.2</td>\n",
       "      <td>0.53</td>\n",
       "      <td>0.13</td>\n",
       "      <td>2.0</td>\n",
       "      <td>0.058</td>\n",
       "      <td>18.0</td>\n",
       "      <td>22.0</td>\n",
       "      <td>0.99573</td>\n",
       "      <td>3.21</td>\n",
       "      <td>0.68</td>\n",
       "      <td>9.9</td>\n",
       "    </tr>\n",
       "  </tbody>\n",
       "</table>\n",
       "</div>"
      ],
      "text/plain": [
       "      fixed acidity  volatile acidity  citric acid  residual sugar  chlorides  \\\n",
       "225             7.5              0.65         0.18             7.0      0.088   \n",
       "3557            6.3              0.27         0.29            12.2      0.044   \n",
       "3825            8.8              0.27         0.25             5.0      0.024   \n",
       "1740            6.4              0.45         0.07             1.1      0.030   \n",
       "1221            7.2              0.53         0.13             2.0      0.058   \n",
       "\n",
       "      free sulfur dioxide  total sulfur dioxide  density    pH  sulphates  \\\n",
       "225                  27.0                  94.0  0.99915  3.38       0.77   \n",
       "3557                 59.0                 196.0  0.99782  3.14       0.40   \n",
       "3825                 52.0                  99.0  0.99250  2.87       0.49   \n",
       "1740                 10.0                 131.0  0.99050  2.97       0.28   \n",
       "1221                 18.0                  22.0  0.99573  3.21       0.68   \n",
       "\n",
       "      alcohol  \n",
       "225       9.4  \n",
       "3557      8.8  \n",
       "3825     11.4  \n",
       "1740     10.8  \n",
       "1221      9.9  "
      ]
     },
     "execution_count": 81,
     "metadata": {},
     "output_type": "execute_result"
    }
   ],
   "source": [
    "train.head()"
   ]
  },
  {
   "cell_type": "markdown",
   "metadata": {
    "colab_type": "text",
    "id": "hEdbrruAsN1D"
   },
   "source": [
    "### Normalize the data (TODO)\n",
    "\n",
    "Next, you can normalize the data, x, using the formula:\n",
    "$$x_{norm} = \\frac{x - \\mu}{\\sigma}$$\n",
    "- The `norm` function is defined for you.\n",
    "- Please apply the `norm` function to normalize the dataframes that contains the feature columns of `train`, `val` and `test` sets."
   ]
  },
  {
   "cell_type": "code",
   "execution_count": 82,
   "metadata": {
    "colab": {},
    "colab_type": "code",
    "id": "WWiZPAHCLjUs"
   },
   "outputs": [],
   "source": [
    "def norm(x):\n",
    "    return (x - train_stats['mean']) / train_stats['std']"
   ]
  },
  {
   "cell_type": "code",
   "execution_count": 83,
   "metadata": {
    "colab": {},
    "colab_type": "code",
    "deletable": false,
    "id": "JEaOi2I2Lk69",
    "nbgrader": {
     "cell_type": "code",
     "checksum": "6bc0cdcb563d192f271067aa3373ff32",
     "grade": false,
     "grade_id": "cell-d8416d975c371095",
     "locked": false,
     "schema_version": 3,
     "solution": true,
     "task": false
    }
   },
   "outputs": [],
   "source": [
    "## Please uncomment all lines in this cell and replace those marked with `# YOUR CODE HERE`.\n",
    "## You can select all lines in this code cell with Ctrl+A (Windows/Linux) or Cmd+A (Mac), then press Ctrl+/ (Windows/Linux) or Cmd+/ (Mac) to uncomment.\n",
    "\n",
    "\n",
    "\n",
    "# # normalize the train set\n",
    "norm_train_X = norm(train)\n",
    "    \n",
    "# # normalize the val set\n",
    "norm_val_X = norm(val)\n",
    "    \n",
    "# # normalize the test set\n",
    "norm_test_X = norm(test)"
   ]
  },
  {
   "cell_type": "code",
   "execution_count": 84,
   "metadata": {
    "deletable": false,
    "editable": false,
    "nbgrader": {
     "cell_type": "code",
     "checksum": "4f567db45bf40191601780379cc100b8",
     "grade": true,
     "grade_id": "cell-97fad979d157529b",
     "locked": true,
     "points": 1,
     "schema_version": 3,
     "solution": false,
     "task": false
    }
   },
   "outputs": [
    {
     "name": "stdout",
     "output_type": "stream",
     "text": [
      "\u001b[92m All public tests passed\n"
     ]
    }
   ],
   "source": [
    "utils.test_norm(norm_train_X, norm_val_X, norm_test_X, train, val, test)\n"
   ]
  },
  {
   "cell_type": "markdown",
   "metadata": {
    "colab_type": "text",
    "id": "hzykDwQhsaPO"
   },
   "source": [
    "## Define the Model (TODO)\n",
    "\n",
    "Define the model using the functional API. The base model will be 2 `Dense` layers of 128 neurons each, and have the `'relu'` activation.\n",
    "- Check out the documentation for [tf.keras.layers.Dense](https://www.tensorflow.org/api_docs/python/tf/keras/layers/Dense)"
   ]
  },
  {
   "cell_type": "code",
   "execution_count": 97,
   "metadata": {
    "colab": {},
    "colab_type": "code",
    "deletable": false,
    "id": "Rhcns3oTFkM6",
    "nbgrader": {
     "cell_type": "code",
     "checksum": "74b031247e569526552bf13a034a1c07",
     "grade": false,
     "grade_id": "cell-73fceedad1fe351c",
     "locked": false,
     "schema_version": 3,
     "solution": true,
     "task": false
    }
   },
   "outputs": [],
   "source": [
    "## Please uncomment all lines in this cell and replace those marked with `# YOUR CODE HERE`.\n",
    "## You can select all lines in this code cell with Ctrl+A (Windows/Linux) or Cmd+A (Mac), then press Ctrl+/ (Windows/Linux) or Cmd+/ (Mac) to uncomment.\n",
    "\n",
    "\n",
    "\n",
    "def base_model(inputs):\n",
    "    # connect a Dense layer with 128 neurons and a relu activation\n",
    "    x = Dense(128, activation = 'relu')(inputs)# YOUR CODE HERE\n",
    "    \n",
    "    # connect another Dense layer with 128 neurons and a relu activation\n",
    "    x = Dense(128, activation = 'relu')(x)# YOUR CODE HERE\n",
    "    return x\n",
    "  "
   ]
  },
  {
   "cell_type": "code",
   "execution_count": 98,
   "metadata": {
    "deletable": false,
    "editable": false,
    "nbgrader": {
     "cell_type": "code",
     "checksum": "9255924b3def80f679616e4c851a43e1",
     "grade": true,
     "grade_id": "cell-54f742a133353d75",
     "locked": true,
     "points": 1,
     "schema_version": 3,
     "solution": false,
     "task": false
    }
   },
   "outputs": [
    {
     "name": "stdout",
     "output_type": "stream",
     "text": [
      "\u001b[92m All public tests passed\n"
     ]
    }
   ],
   "source": [
    "utils.test_base_model(base_model)"
   ]
  },
  {
   "cell_type": "markdown",
   "metadata": {
    "colab_type": "text",
    "id": "xem_fcVws6Kz"
   },
   "source": [
    "# Define output layers of the model (TODO)\n",
    "\n",
    "You will add output layers to the base model. \n",
    "- The model will need two outputs.\n",
    "\n",
    "One output layer will predict wine quality, which is a numeric value.\n",
    "- Define a `Dense` layer with 1 neuron.\n",
    "- Since this is a regression output, the activation can be left as its default value `None`.\n",
    "\n",
    "The other output layer will predict the wine type, which is either red `1` or not red `0` (white).\n",
    "- Define a `Dense` layer with 1 neuron.\n",
    "- Since there are two possible categories, you can use a sigmoid activation for binary classification.\n",
    "\n",
    "Define the `Model`\n",
    "- Define the `Model` object, and set the following parameters:\n",
    "  - `inputs`: pass in the inputs to the model as a list.\n",
    "  - `outputs`: pass in a list of the outputs that you just defined: wine quality, then wine type.\n",
    "  - **Note**: please list the wine quality before wine type in the outputs, as this will affect the calculated loss if you choose the other order."
   ]
  },
  {
   "cell_type": "code",
   "execution_count": 107,
   "metadata": {
    "colab": {},
    "colab_type": "code",
    "deletable": false,
    "id": "n5UGF8PMVLPt",
    "nbgrader": {
     "cell_type": "code",
     "checksum": "76d35b90d20cdcbb22986cd8211057de",
     "grade": false,
     "grade_id": "cell-19e285f482f021fb",
     "locked": false,
     "schema_version": 3,
     "solution": true,
     "task": false
    }
   },
   "outputs": [],
   "source": [
    "## Please uncomment all lines in this cell and replace those marked with `# YOUR CODE HERE`.\n",
    "## You can select all lines in this code cell with Ctrl+A (Windows/Linux) or Cmd+A (Mac), then press Ctrl+/ (Windows/Linux) or Cmd+/ (Mac) to uncomment.\n",
    "\n",
    "\n",
    "\n",
    "def final_model(inputs):\n",
    "    \n",
    "#     # get the base model\n",
    "    x = base_model(inputs)\n",
    "\n",
    "#     # connect the output Dense layer for regression\n",
    "    wine_quality = Dense(units='1', name='wine_quality')(x)\n",
    "\n",
    "#     # connect the output Dense layer for classification. this will use a sigmoid activation.\n",
    "    wine_type = Dense(units='1', activation='sigmoid', name='wine_type')(x)\n",
    "\n",
    "#     # define the model using the input and output layers\n",
    "    model = Model(inputs=inputs, outputs=[wine_quality, wine_type])\n",
    "\n",
    "    return model"
   ]
  },
  {
   "cell_type": "code",
   "execution_count": 108,
   "metadata": {
    "deletable": false,
    "editable": false,
    "nbgrader": {
     "cell_type": "code",
     "checksum": "89cbf89d8ab5e2e59ecf7f63f517520a",
     "grade": true,
     "grade_id": "cell-40d050f855c817d1",
     "locked": true,
     "points": 1,
     "schema_version": 3,
     "solution": false,
     "task": false
    }
   },
   "outputs": [
    {
     "name": "stdout",
     "output_type": "stream",
     "text": [
      "\u001b[92m All public tests passed\n"
     ]
    }
   ],
   "source": [
    "utils.test_final_model(final_model)"
   ]
  },
  {
   "cell_type": "markdown",
   "metadata": {
    "colab_type": "text",
    "id": "5R0BMTsltZyu"
   },
   "source": [
    "## Compiling the Model\n",
    "\n",
    "Next, compile the model. When setting the loss parameter of `model.compile`, you're setting the loss for each of the two outputs (wine quality and wine type).\n",
    "\n",
    "To set more than one loss, use a dictionary of key-value pairs.\n",
    "- You can look at the docs for the losses [here](https://www.tensorflow.org/api_docs/python/tf/keras/losses#functions).\n",
    "    - **Note**: For the desired spelling, please look at the \"Functions\" section of the documentation and not the \"classes\" section on that same page.\n",
    "- wine_type: Since you will be performing binary classification on wine type, you should use the binary crossentropy loss function for it.  Please pass this in as a string.  \n",
    "  - **Hint**, this should be all lowercase.  In the documentation, you'll see this under the \"Functions\" section, not the \"Classes\" section.\n",
    "- wine_quality: since this is a regression output, use the mean squared error.  Please pass it in as a string, all lowercase.\n",
    "  - **Hint**: You may notice that there are two aliases for mean squared error.  Please use the shorter name.\n",
    "\n",
    "\n",
    "You will also set the metric for each of the two outputs.  Again, to set metrics for two or more outputs, use a dictionary with key value pairs.\n",
    "- The metrics documentation is linked [here](https://www.tensorflow.org/api_docs/python/tf/keras/metrics).\n",
    "- For the wine type, please set it to accuracy as a string, all lowercase.\n",
    "- For wine quality, please use the root mean squared error.  Instead of a string, you'll set it to an instance of the class [RootMeanSquaredError](https://www.tensorflow.org/api_docs/python/tf/keras/metrics/RootMeanSquaredError), which belongs to the tf.keras.metrics module.\n",
    "\n",
    "**Note**: If you see the error message \n",
    ">Exception: wine quality loss function is incorrect.\n",
    "\n",
    "- Please also check your other losses and metrics, as the error may be caused by the other three key-value pairs and not the wine quality loss."
   ]
  },
  {
   "cell_type": "code",
   "execution_count": 144,
   "metadata": {
    "colab": {},
    "colab_type": "code",
    "deletable": false,
    "id": "LK11duUbUjmh",
    "nbgrader": {
     "cell_type": "code",
     "checksum": "22f45067ca69eb2ccadb43874dbcc27b",
     "grade": false,
     "grade_id": "cell-81afdc4dcca51d5e",
     "locked": false,
     "schema_version": 3,
     "solution": true,
     "task": false
    }
   },
   "outputs": [],
   "source": [
    "## Please uncomment all lines in this cell and replace those marked with `# YOUR CODE HERE`.\n",
    "## You can select all lines in this code cell with Ctrl+A (Windows/Linux) or Cmd+A (Mac), then press Ctrl+/ (Windows/Linux) or Cmd+/ (Mac) to uncomment.\n",
    "\n",
    "\n",
    "\n",
    "inputs = tf.keras.layers.Input(shape=(11,))\n",
    "rms = tf.keras.optimizers.RMSprop(lr=0.0001)\n",
    "model = final_model(inputs)\n",
    "\n",
    "model.compile(optimizer=rms, \n",
    "               loss = {'wine_type' : 'binary_crossentropy',\n",
    "                       'wine_quality' : 'mse'\n",
    "                      },\n",
    "               metrics = {'wine_type' : 'accuracy',\n",
    "                          'wine_quality': tf.keras.metrics.RootMeanSquaredError(\n",
    "    name='root_mean_squared_error', dtype=None\n",
    ")\n",
    "                        }\n",
    "              )\n"
   ]
  },
  {
   "cell_type": "code",
   "execution_count": 145,
   "metadata": {
    "deletable": false,
    "editable": false,
    "nbgrader": {
     "cell_type": "code",
     "checksum": "88e02238ea5e456ff65e835cc8158054",
     "grade": true,
     "grade_id": "cell-2eeeba02391c4632",
     "locked": true,
     "points": 1,
     "schema_version": 3,
     "solution": false,
     "task": false
    }
   },
   "outputs": [
    {
     "name": "stdout",
     "output_type": "stream",
     "text": [
      "\u001b[92m All public tests passed\n"
     ]
    }
   ],
   "source": [
    "utils.test_model_compile(model)"
   ]
  },
  {
   "cell_type": "markdown",
   "metadata": {
    "colab_type": "text",
    "id": "90MpAMpWuKm-"
   },
   "source": [
    "## Training the Model\n",
    "\n",
    "Fit the model to the training inputs and outputs. \n",
    "- Check the documentation for [model.fit](https://www.tensorflow.org/api_docs/python/tf/keras/Model#fit).\n",
    "- Remember to use the normalized training set as inputs. \n",
    "- For the validation data, please use the normalized validation set."
   ]
  },
  {
   "cell_type": "code",
   "execution_count": 149,
   "metadata": {
    "colab": {},
    "colab_type": "code",
    "deletable": false,
    "id": "_eiZkle4XwiY",
    "nbgrader": {
     "cell_type": "code",
     "checksum": "2ca7664be03bfd6fd3651ae44d17b793",
     "grade": false,
     "grade_id": "cell-0bb56262896f6680",
     "locked": false,
     "schema_version": 3,
     "solution": true,
     "task": false
    }
   },
   "outputs": [
    {
     "name": "stdout",
     "output_type": "stream",
     "text": [
      "Train on 3155 samples, validate on 789 samples\n",
      "Epoch 1/180\n",
      "3155/3155 [==============================] - 0s 75us/sample - loss: 0.2870 - wine_quality_loss: 0.2680 - wine_type_loss: 0.0191 - wine_quality_root_mean_squared_error: 0.5176 - wine_type_accuracy: 0.9968 - val_loss: 0.3418 - val_wine_quality_loss: 0.3154 - val_wine_type_loss: 0.0258 - val_wine_quality_root_mean_squared_error: 0.5619 - val_wine_type_accuracy: 0.9949\n",
      "Epoch 2/180\n",
      "3155/3155 [==============================] - 0s 88us/sample - loss: 0.2873 - wine_quality_loss: 0.2681 - wine_type_loss: 0.0190 - wine_quality_root_mean_squared_error: 0.5179 - wine_type_accuracy: 0.9968 - val_loss: 0.3377 - val_wine_quality_loss: 0.3116 - val_wine_type_loss: 0.0256 - val_wine_quality_root_mean_squared_error: 0.5584 - val_wine_type_accuracy: 0.9949\n",
      "Epoch 3/180\n",
      "3155/3155 [==============================] - 0s 73us/sample - loss: 0.2867 - wine_quality_loss: 0.2675 - wine_type_loss: 0.0190 - wine_quality_root_mean_squared_error: 0.5174 - wine_type_accuracy: 0.9968 - val_loss: 0.3402 - val_wine_quality_loss: 0.3141 - val_wine_type_loss: 0.0255 - val_wine_quality_root_mean_squared_error: 0.5607 - val_wine_type_accuracy: 0.9949\n",
      "Epoch 4/180\n",
      "3155/3155 [==============================] - 0s 89us/sample - loss: 0.2859 - wine_quality_loss: 0.2669 - wine_type_loss: 0.0188 - wine_quality_root_mean_squared_error: 0.5167 - wine_type_accuracy: 0.9968 - val_loss: 0.3453 - val_wine_quality_loss: 0.3189 - val_wine_type_loss: 0.0256 - val_wine_quality_root_mean_squared_error: 0.5652 - val_wine_type_accuracy: 0.9949\n",
      "Epoch 5/180\n",
      "3155/3155 [==============================] - 0s 88us/sample - loss: 0.2845 - wine_quality_loss: 0.2653 - wine_type_loss: 0.0188 - wine_quality_root_mean_squared_error: 0.5154 - wine_type_accuracy: 0.9968 - val_loss: 0.3409 - val_wine_quality_loss: 0.3152 - val_wine_type_loss: 0.0255 - val_wine_quality_root_mean_squared_error: 0.5613 - val_wine_type_accuracy: 0.9949\n",
      "Epoch 6/180\n",
      "3155/3155 [==============================] - 0s 73us/sample - loss: 0.2855 - wine_quality_loss: 0.2669 - wine_type_loss: 0.0187 - wine_quality_root_mean_squared_error: 0.5165 - wine_type_accuracy: 0.9968 - val_loss: 0.3474 - val_wine_quality_loss: 0.3216 - val_wine_type_loss: 0.0254 - val_wine_quality_root_mean_squared_error: 0.5672 - val_wine_type_accuracy: 0.9949\n",
      "Epoch 7/180\n",
      "3155/3155 [==============================] - 0s 89us/sample - loss: 0.2851 - wine_quality_loss: 0.2666 - wine_type_loss: 0.0185 - wine_quality_root_mean_squared_error: 0.5162 - wine_type_accuracy: 0.9968 - val_loss: 0.3550 - val_wine_quality_loss: 0.3287 - val_wine_type_loss: 0.0255 - val_wine_quality_root_mean_squared_error: 0.5737 - val_wine_type_accuracy: 0.9949\n",
      "Epoch 8/180\n",
      "3155/3155 [==============================] - 0s 88us/sample - loss: 0.2842 - wine_quality_loss: 0.2655 - wine_type_loss: 0.0186 - wine_quality_root_mean_squared_error: 0.5153 - wine_type_accuracy: 0.9968 - val_loss: 0.3424 - val_wine_quality_loss: 0.3162 - val_wine_type_loss: 0.0254 - val_wine_quality_root_mean_squared_error: 0.5627 - val_wine_type_accuracy: 0.9949\n",
      "Epoch 9/180\n",
      "3155/3155 [==============================] - 0s 73us/sample - loss: 0.2837 - wine_quality_loss: 0.2652 - wine_type_loss: 0.0185 - wine_quality_root_mean_squared_error: 0.5149 - wine_type_accuracy: 0.9968 - val_loss: 0.3390 - val_wine_quality_loss: 0.3132 - val_wine_type_loss: 0.0253 - val_wine_quality_root_mean_squared_error: 0.5598 - val_wine_type_accuracy: 0.9949\n",
      "Epoch 10/180\n",
      "3155/3155 [==============================] - 0s 91us/sample - loss: 0.2834 - wine_quality_loss: 0.2648 - wine_type_loss: 0.0183 - wine_quality_root_mean_squared_error: 0.5148 - wine_type_accuracy: 0.9968 - val_loss: 0.3404 - val_wine_quality_loss: 0.3145 - val_wine_type_loss: 0.0252 - val_wine_quality_root_mean_squared_error: 0.5611 - val_wine_type_accuracy: 0.9949\n",
      "Epoch 11/180\n",
      "3155/3155 [==============================] - 0s 88us/sample - loss: 0.2834 - wine_quality_loss: 0.2646 - wine_type_loss: 0.0184 - wine_quality_root_mean_squared_error: 0.5148 - wine_type_accuracy: 0.9968 - val_loss: 0.3389 - val_wine_quality_loss: 0.3131 - val_wine_type_loss: 0.0252 - val_wine_quality_root_mean_squared_error: 0.5598 - val_wine_type_accuracy: 0.9949\n",
      "Epoch 12/180\n",
      "3155/3155 [==============================] - 0s 75us/sample - loss: 0.2820 - wine_quality_loss: 0.2633 - wine_type_loss: 0.0182 - wine_quality_root_mean_squared_error: 0.5135 - wine_type_accuracy: 0.9968 - val_loss: 0.3373 - val_wine_quality_loss: 0.3115 - val_wine_type_loss: 0.0252 - val_wine_quality_root_mean_squared_error: 0.5584 - val_wine_type_accuracy: 0.9949\n",
      "Epoch 13/180\n",
      "3155/3155 [==============================] - 0s 92us/sample - loss: 0.2828 - wine_quality_loss: 0.2640 - wine_type_loss: 0.0181 - wine_quality_root_mean_squared_error: 0.5144 - wine_type_accuracy: 0.9968 - val_loss: 0.3368 - val_wine_quality_loss: 0.3111 - val_wine_type_loss: 0.0251 - val_wine_quality_root_mean_squared_error: 0.5580 - val_wine_type_accuracy: 0.9949\n",
      "Epoch 14/180\n",
      "3155/3155 [==============================] - 0s 91us/sample - loss: 0.2820 - wine_quality_loss: 0.2647 - wine_type_loss: 0.0180 - wine_quality_root_mean_squared_error: 0.5138 - wine_type_accuracy: 0.9968 - val_loss: 0.3377 - val_wine_quality_loss: 0.3118 - val_wine_type_loss: 0.0252 - val_wine_quality_root_mean_squared_error: 0.5588 - val_wine_type_accuracy: 0.9962\n",
      "Epoch 15/180\n",
      "3155/3155 [==============================] - 0s 90us/sample - loss: 0.2826 - wine_quality_loss: 0.2640 - wine_type_loss: 0.0180 - wine_quality_root_mean_squared_error: 0.5143 - wine_type_accuracy: 0.9968 - val_loss: 0.3361 - val_wine_quality_loss: 0.3102 - val_wine_type_loss: 0.0252 - val_wine_quality_root_mean_squared_error: 0.5574 - val_wine_type_accuracy: 0.9962\n",
      "Epoch 16/180\n",
      "3155/3155 [==============================] - 0s 74us/sample - loss: 0.2808 - wine_quality_loss: 0.2634 - wine_type_loss: 0.0179 - wine_quality_root_mean_squared_error: 0.5126 - wine_type_accuracy: 0.9968 - val_loss: 0.3459 - val_wine_quality_loss: 0.3200 - val_wine_type_loss: 0.0251 - val_wine_quality_root_mean_squared_error: 0.5661 - val_wine_type_accuracy: 0.9962\n",
      "Epoch 17/180\n",
      "3155/3155 [==============================] - 0s 91us/sample - loss: 0.2798 - wine_quality_loss: 0.2617 - wine_type_loss: 0.0178 - wine_quality_root_mean_squared_error: 0.5118 - wine_type_accuracy: 0.9968 - val_loss: 0.3486 - val_wine_quality_loss: 0.3229 - val_wine_type_loss: 0.0250 - val_wine_quality_root_mean_squared_error: 0.5685 - val_wine_type_accuracy: 0.9962\n",
      "Epoch 18/180\n",
      "3155/3155 [==============================] - 0s 90us/sample - loss: 0.2812 - wine_quality_loss: 0.2635 - wine_type_loss: 0.0177 - wine_quality_root_mean_squared_error: 0.5132 - wine_type_accuracy: 0.9968 - val_loss: 0.3387 - val_wine_quality_loss: 0.3128 - val_wine_type_loss: 0.0250 - val_wine_quality_root_mean_squared_error: 0.5598 - val_wine_type_accuracy: 0.9962\n",
      "Epoch 19/180\n",
      "3155/3155 [==============================] - 0s 73us/sample - loss: 0.2805 - wine_quality_loss: 0.2626 - wine_type_loss: 0.0177 - wine_quality_root_mean_squared_error: 0.5126 - wine_type_accuracy: 0.9968 - val_loss: 0.3416 - val_wine_quality_loss: 0.3157 - val_wine_type_loss: 0.0251 - val_wine_quality_root_mean_squared_error: 0.5623 - val_wine_type_accuracy: 0.9962\n",
      "Epoch 20/180\n",
      "3155/3155 [==============================] - 0s 91us/sample - loss: 0.2796 - wine_quality_loss: 0.2628 - wine_type_loss: 0.0176 - wine_quality_root_mean_squared_error: 0.5118 - wine_type_accuracy: 0.9968 - val_loss: 0.3387 - val_wine_quality_loss: 0.3129 - val_wine_type_loss: 0.0250 - val_wine_quality_root_mean_squared_error: 0.5598 - val_wine_type_accuracy: 0.9962\n",
      "Epoch 21/180\n",
      "3155/3155 [==============================] - 0s 91us/sample - loss: 0.2796 - wine_quality_loss: 0.2617 - wine_type_loss: 0.0175 - wine_quality_root_mean_squared_error: 0.5119 - wine_type_accuracy: 0.9968 - val_loss: 0.3374 - val_wine_quality_loss: 0.3117 - val_wine_type_loss: 0.0249 - val_wine_quality_root_mean_squared_error: 0.5586 - val_wine_type_accuracy: 0.9962\n",
      "Epoch 22/180\n",
      "3155/3155 [==============================] - 0s 91us/sample - loss: 0.2790 - wine_quality_loss: 0.2618 - wine_type_loss: 0.0175 - wine_quality_root_mean_squared_error: 0.5114 - wine_type_accuracy: 0.9968 - val_loss: 0.3421 - val_wine_quality_loss: 0.3166 - val_wine_type_loss: 0.0250 - val_wine_quality_root_mean_squared_error: 0.5629 - val_wine_type_accuracy: 0.9962\n",
      "Epoch 23/180\n",
      "3155/3155 [==============================] - 0s 73us/sample - loss: 0.2783 - wine_quality_loss: 0.2612 - wine_type_loss: 0.0174 - wine_quality_root_mean_squared_error: 0.5108 - wine_type_accuracy: 0.9968 - val_loss: 0.3409 - val_wine_quality_loss: 0.3155 - val_wine_type_loss: 0.0250 - val_wine_quality_root_mean_squared_error: 0.5618 - val_wine_type_accuracy: 0.9962\n",
      "Epoch 24/180\n",
      "3155/3155 [==============================] - 0s 89us/sample - loss: 0.2781 - wine_quality_loss: 0.2610 - wine_type_loss: 0.0184 - wine_quality_root_mean_squared_error: 0.5107 - wine_type_accuracy: 0.9968 - val_loss: 0.3414 - val_wine_quality_loss: 0.3158 - val_wine_type_loss: 0.0249 - val_wine_quality_root_mean_squared_error: 0.5623 - val_wine_type_accuracy: 0.9962\n",
      "Epoch 25/180\n",
      "3155/3155 [==============================] - 0s 73us/sample - loss: 0.2782 - wine_quality_loss: 0.2613 - wine_type_loss: 0.0175 - wine_quality_root_mean_squared_error: 0.5109 - wine_type_accuracy: 0.9968 - val_loss: 0.3377 - val_wine_quality_loss: 0.3120 - val_wine_type_loss: 0.0249 - val_wine_quality_root_mean_squared_error: 0.5590 - val_wine_type_accuracy: 0.9962\n",
      "Epoch 26/180\n",
      "3155/3155 [==============================] - 0s 89us/sample - loss: 0.2769 - wine_quality_loss: 0.2595 - wine_type_loss: 0.0171 - wine_quality_root_mean_squared_error: 0.5097 - wine_type_accuracy: 0.9971 - val_loss: 0.3423 - val_wine_quality_loss: 0.3169 - val_wine_type_loss: 0.0248 - val_wine_quality_root_mean_squared_error: 0.5632 - val_wine_type_accuracy: 0.9962\n",
      "Epoch 27/180\n",
      "3155/3155 [==============================] - 0s 88us/sample - loss: 0.2775 - wine_quality_loss: 0.2601 - wine_type_loss: 0.0171 - wine_quality_root_mean_squared_error: 0.5103 - wine_type_accuracy: 0.9968 - val_loss: 0.3398 - val_wine_quality_loss: 0.3146 - val_wine_type_loss: 0.0249 - val_wine_quality_root_mean_squared_error: 0.5609 - val_wine_type_accuracy: 0.9962\n",
      "Epoch 28/180\n",
      "3155/3155 [==============================] - 0s 72us/sample - loss: 0.2770 - wine_quality_loss: 0.2603 - wine_type_loss: 0.0170 - wine_quality_root_mean_squared_error: 0.5099 - wine_type_accuracy: 0.9971 - val_loss: 0.3375 - val_wine_quality_loss: 0.3123 - val_wine_type_loss: 0.0248 - val_wine_quality_root_mean_squared_error: 0.5590 - val_wine_type_accuracy: 0.9962\n",
      "Epoch 29/180\n",
      "3155/3155 [==============================] - 0s 88us/sample - loss: 0.2755 - wine_quality_loss: 0.2587 - wine_type_loss: 0.0169 - wine_quality_root_mean_squared_error: 0.5085 - wine_type_accuracy: 0.9971 - val_loss: 0.3446 - val_wine_quality_loss: 0.3192 - val_wine_type_loss: 0.0248 - val_wine_quality_root_mean_squared_error: 0.5652 - val_wine_type_accuracy: 0.9962\n",
      "Epoch 30/180\n",
      "3155/3155 [==============================] - 0s 73us/sample - loss: 0.2759 - wine_quality_loss: 0.2590 - wine_type_loss: 0.0168 - wine_quality_root_mean_squared_error: 0.5089 - wine_type_accuracy: 0.9971 - val_loss: 0.3368 - val_wine_quality_loss: 0.3113 - val_wine_type_loss: 0.0249 - val_wine_quality_root_mean_squared_error: 0.5582 - val_wine_type_accuracy: 0.9962\n",
      "Epoch 31/180\n",
      "3155/3155 [==============================] - 0s 92us/sample - loss: 0.2737 - wine_quality_loss: 0.2564 - wine_type_loss: 0.0168 - wine_quality_root_mean_squared_error: 0.5067 - wine_type_accuracy: 0.9971 - val_loss: 0.3426 - val_wine_quality_loss: 0.3172 - val_wine_type_loss: 0.0248 - val_wine_quality_root_mean_squared_error: 0.5634 - val_wine_type_accuracy: 0.9962\n",
      "Epoch 32/180\n",
      "3155/3155 [==============================] - 0s 89us/sample - loss: 0.2764 - wine_quality_loss: 0.2599 - wine_type_loss: 0.0167 - wine_quality_root_mean_squared_error: 0.5096 - wine_type_accuracy: 0.9971 - val_loss: 0.3427 - val_wine_quality_loss: 0.3169 - val_wine_type_loss: 0.0250 - val_wine_quality_root_mean_squared_error: 0.5634 - val_wine_type_accuracy: 0.9962\n",
      "Epoch 33/180\n",
      "3155/3155 [==============================] - 0s 88us/sample - loss: 0.2743 - wine_quality_loss: 0.2578 - wine_type_loss: 0.0168 - wine_quality_root_mean_squared_error: 0.5074 - wine_type_accuracy: 0.9971 - val_loss: 0.3485 - val_wine_quality_loss: 0.3226 - val_wine_type_loss: 0.0250 - val_wine_quality_root_mean_squared_error: 0.5685 - val_wine_type_accuracy: 0.9962\n",
      "Epoch 34/180\n",
      "3155/3155 [==============================] - 0s 75us/sample - loss: 0.2741 - wine_quality_loss: 0.2574 - wine_type_loss: 0.0166 - wine_quality_root_mean_squared_error: 0.5074 - wine_type_accuracy: 0.9971 - val_loss: 0.3447 - val_wine_quality_loss: 0.3193 - val_wine_type_loss: 0.0249 - val_wine_quality_root_mean_squared_error: 0.5652 - val_wine_type_accuracy: 0.9962\n",
      "Epoch 35/180\n",
      "3155/3155 [==============================] - 0s 88us/sample - loss: 0.2735 - wine_quality_loss: 0.2569 - wine_type_loss: 0.0177 - wine_quality_root_mean_squared_error: 0.5068 - wine_type_accuracy: 0.9971 - val_loss: 0.3442 - val_wine_quality_loss: 0.3185 - val_wine_type_loss: 0.0248 - val_wine_quality_root_mean_squared_error: 0.5648 - val_wine_type_accuracy: 0.9962\n",
      "Epoch 36/180\n",
      "3155/3155 [==============================] - 0s 74us/sample - loss: 0.2735 - wine_quality_loss: 0.2569 - wine_type_loss: 0.0165 - wine_quality_root_mean_squared_error: 0.5069 - wine_type_accuracy: 0.9971 - val_loss: 0.3412 - val_wine_quality_loss: 0.3155 - val_wine_type_loss: 0.0248 - val_wine_quality_root_mean_squared_error: 0.5622 - val_wine_type_accuracy: 0.9962\n",
      "Epoch 37/180\n",
      "3155/3155 [==============================] - 0s 91us/sample - loss: 0.2737 - wine_quality_loss: 0.2572 - wine_type_loss: 0.0164 - wine_quality_root_mean_squared_error: 0.5072 - wine_type_accuracy: 0.9971 - val_loss: 0.3469 - val_wine_quality_loss: 0.3211 - val_wine_type_loss: 0.0248 - val_wine_quality_root_mean_squared_error: 0.5672 - val_wine_type_accuracy: 0.9962\n",
      "Epoch 38/180\n",
      "3155/3155 [==============================] - 0s 90us/sample - loss: 0.2733 - wine_quality_loss: 0.2565 - wine_type_loss: 0.0164 - wine_quality_root_mean_squared_error: 0.5068 - wine_type_accuracy: 0.9971 - val_loss: 0.3401 - val_wine_quality_loss: 0.3145 - val_wine_type_loss: 0.0247 - val_wine_quality_root_mean_squared_error: 0.5613 - val_wine_type_accuracy: 0.9962\n",
      "Epoch 39/180\n",
      "3155/3155 [==============================] - 0s 89us/sample - loss: 0.2722 - wine_quality_loss: 0.2555 - wine_type_loss: 0.0163 - wine_quality_root_mean_squared_error: 0.5058 - wine_type_accuracy: 0.9971 - val_loss: 0.3417 - val_wine_quality_loss: 0.3163 - val_wine_type_loss: 0.0247 - val_wine_quality_root_mean_squared_error: 0.5627 - val_wine_type_accuracy: 0.9962\n",
      "Epoch 40/180\n",
      "3155/3155 [==============================] - 0s 75us/sample - loss: 0.2719 - wine_quality_loss: 0.2558 - wine_type_loss: 0.0162 - wine_quality_root_mean_squared_error: 0.5055 - wine_type_accuracy: 0.9971 - val_loss: 0.3411 - val_wine_quality_loss: 0.3155 - val_wine_type_loss: 0.0247 - val_wine_quality_root_mean_squared_error: 0.5622 - val_wine_type_accuracy: 0.9962\n",
      "Epoch 41/180\n",
      "3155/3155 [==============================] - 0s 92us/sample - loss: 0.2725 - wine_quality_loss: 0.2564 - wine_type_loss: 0.0162 - wine_quality_root_mean_squared_error: 0.5062 - wine_type_accuracy: 0.9971 - val_loss: 0.3379 - val_wine_quality_loss: 0.3125 - val_wine_type_loss: 0.0247 - val_wine_quality_root_mean_squared_error: 0.5594 - val_wine_type_accuracy: 0.9962\n",
      "Epoch 42/180\n",
      "3155/3155 [==============================] - 0s 90us/sample - loss: 0.2708 - wine_quality_loss: 0.2544 - wine_type_loss: 0.0161 - wine_quality_root_mean_squared_error: 0.5046 - wine_type_accuracy: 0.9971 - val_loss: 0.3397 - val_wine_quality_loss: 0.3141 - val_wine_type_loss: 0.0247 - val_wine_quality_root_mean_squared_error: 0.5609 - val_wine_type_accuracy: 0.9962\n",
      "Epoch 43/180\n",
      "3155/3155 [==============================] - 0s 74us/sample - loss: 0.2715 - wine_quality_loss: 0.2550 - wine_type_loss: 0.0161 - wine_quality_root_mean_squared_error: 0.5053 - wine_type_accuracy: 0.9971 - val_loss: 0.3485 - val_wine_quality_loss: 0.3229 - val_wine_type_loss: 0.0247 - val_wine_quality_root_mean_squared_error: 0.5688 - val_wine_type_accuracy: 0.9962\n",
      "Epoch 44/180\n",
      "3155/3155 [==============================] - 0s 91us/sample - loss: 0.2709 - wine_quality_loss: 0.2553 - wine_type_loss: 0.0160 - wine_quality_root_mean_squared_error: 0.5048 - wine_type_accuracy: 0.9971 - val_loss: 0.3470 - val_wine_quality_loss: 0.3216 - val_wine_type_loss: 0.0246 - val_wine_quality_root_mean_squared_error: 0.5676 - val_wine_type_accuracy: 0.9962\n",
      "Epoch 45/180\n",
      "3155/3155 [==============================] - 0s 93us/sample - loss: 0.2698 - wine_quality_loss: 0.2538 - wine_type_loss: 0.0159 - wine_quality_root_mean_squared_error: 0.5039 - wine_type_accuracy: 0.9971 - val_loss: 0.3446 - val_wine_quality_loss: 0.3194 - val_wine_type_loss: 0.0245 - val_wine_quality_root_mean_squared_error: 0.5656 - val_wine_type_accuracy: 0.9962\n",
      "Epoch 46/180\n",
      "3155/3155 [==============================] - 0s 88us/sample - loss: 0.2698 - wine_quality_loss: 0.2544 - wine_type_loss: 0.0158 - wine_quality_root_mean_squared_error: 0.5040 - wine_type_accuracy: 0.9971 - val_loss: 0.3451 - val_wine_quality_loss: 0.3200 - val_wine_type_loss: 0.0244 - val_wine_quality_root_mean_squared_error: 0.5660 - val_wine_type_accuracy: 0.9962\n",
      "Epoch 47/180\n",
      "3155/3155 [==============================] - 0s 74us/sample - loss: 0.2695 - wine_quality_loss: 0.2535 - wine_type_loss: 0.0159 - wine_quality_root_mean_squared_error: 0.5037 - wine_type_accuracy: 0.9971 - val_loss: 0.3411 - val_wine_quality_loss: 0.3158 - val_wine_type_loss: 0.0244 - val_wine_quality_root_mean_squared_error: 0.5624 - val_wine_type_accuracy: 0.9962\n",
      "Epoch 48/180\n",
      "3155/3155 [==============================] - 0s 91us/sample - loss: 0.2699 - wine_quality_loss: 0.2545 - wine_type_loss: 0.0157 - wine_quality_root_mean_squared_error: 0.5041 - wine_type_accuracy: 0.9971 - val_loss: 0.3402 - val_wine_quality_loss: 0.3150 - val_wine_type_loss: 0.0245 - val_wine_quality_root_mean_squared_error: 0.5616 - val_wine_type_accuracy: 0.9962\n",
      "Epoch 49/180\n",
      "3155/3155 [==============================] - 0s 89us/sample - loss: 0.2695 - wine_quality_loss: 0.2545 - wine_type_loss: 0.0156 - wine_quality_root_mean_squared_error: 0.5039 - wine_type_accuracy: 0.9971 - val_loss: 0.3416 - val_wine_quality_loss: 0.3163 - val_wine_type_loss: 0.0244 - val_wine_quality_root_mean_squared_error: 0.5629 - val_wine_type_accuracy: 0.9962\n",
      "Epoch 50/180\n",
      "3155/3155 [==============================] - 0s 74us/sample - loss: 0.2685 - wine_quality_loss: 0.2532 - wine_type_loss: 0.0156 - wine_quality_root_mean_squared_error: 0.5028 - wine_type_accuracy: 0.9971 - val_loss: 0.3468 - val_wine_quality_loss: 0.3214 - val_wine_type_loss: 0.0245 - val_wine_quality_root_mean_squared_error: 0.5674 - val_wine_type_accuracy: 0.9962\n",
      "Epoch 51/180\n",
      "3155/3155 [==============================] - 0s 89us/sample - loss: 0.2688 - wine_quality_loss: 0.2532 - wine_type_loss: 0.0155 - wine_quality_root_mean_squared_error: 0.5032 - wine_type_accuracy: 0.9971 - val_loss: 0.3393 - val_wine_quality_loss: 0.3142 - val_wine_type_loss: 0.0244 - val_wine_quality_root_mean_squared_error: 0.5609 - val_wine_type_accuracy: 0.9962\n",
      "Epoch 52/180\n",
      "3155/3155 [==============================] - 0s 89us/sample - loss: 0.2676 - wine_quality_loss: 0.2517 - wine_type_loss: 0.0165 - wine_quality_root_mean_squared_error: 0.5020 - wine_type_accuracy: 0.9971 - val_loss: 0.3383 - val_wine_quality_loss: 0.3135 - val_wine_type_loss: 0.0243 - val_wine_quality_root_mean_squared_error: 0.5601 - val_wine_type_accuracy: 0.9962\n",
      "Epoch 53/180\n",
      "3155/3155 [==============================] - 0s 76us/sample - loss: 0.2685 - wine_quality_loss: 0.2528 - wine_type_loss: 0.0154 - wine_quality_root_mean_squared_error: 0.5030 - wine_type_accuracy: 0.9971 - val_loss: 0.3446 - val_wine_quality_loss: 0.3196 - val_wine_type_loss: 0.0244 - val_wine_quality_root_mean_squared_error: 0.5655 - val_wine_type_accuracy: 0.9962\n",
      "Epoch 54/180\n",
      "3155/3155 [==============================] - 0s 91us/sample - loss: 0.2677 - wine_quality_loss: 0.2529 - wine_type_loss: 0.0153 - wine_quality_root_mean_squared_error: 0.5023 - wine_type_accuracy: 0.9971 - val_loss: 0.3404 - val_wine_quality_loss: 0.3153 - val_wine_type_loss: 0.0243 - val_wine_quality_root_mean_squared_error: 0.5619 - val_wine_type_accuracy: 0.9962\n",
      "Epoch 55/180\n",
      "3155/3155 [==============================] - 0s 88us/sample - loss: 0.2661 - wine_quality_loss: 0.2510 - wine_type_loss: 0.0152 - wine_quality_root_mean_squared_error: 0.5008 - wine_type_accuracy: 0.9971 - val_loss: 0.3404 - val_wine_quality_loss: 0.3154 - val_wine_type_loss: 0.0243 - val_wine_quality_root_mean_squared_error: 0.5620 - val_wine_type_accuracy: 0.9962\n",
      "Epoch 56/180\n",
      "3155/3155 [==============================] - 0s 72us/sample - loss: 0.2657 - wine_quality_loss: 0.2507 - wine_type_loss: 0.0152 - wine_quality_root_mean_squared_error: 0.5005 - wine_type_accuracy: 0.9971 - val_loss: 0.3432 - val_wine_quality_loss: 0.3179 - val_wine_type_loss: 0.0243 - val_wine_quality_root_mean_squared_error: 0.5644 - val_wine_type_accuracy: 0.9962\n",
      "Epoch 57/180\n",
      "3155/3155 [==============================] - 0s 89us/sample - loss: 0.2660 - wine_quality_loss: 0.2507 - wine_type_loss: 0.0151 - wine_quality_root_mean_squared_error: 0.5009 - wine_type_accuracy: 0.9971 - val_loss: 0.3431 - val_wine_quality_loss: 0.3179 - val_wine_type_loss: 0.0244 - val_wine_quality_root_mean_squared_error: 0.5643 - val_wine_type_accuracy: 0.9962\n",
      "Epoch 58/180\n",
      "3155/3155 [==============================] - 0s 74us/sample - loss: 0.2652 - wine_quality_loss: 0.2498 - wine_type_loss: 0.0151 - wine_quality_root_mean_squared_error: 0.5001 - wine_type_accuracy: 0.9971 - val_loss: 0.3437 - val_wine_quality_loss: 0.3188 - val_wine_type_loss: 0.0244 - val_wine_quality_root_mean_squared_error: 0.5648 - val_wine_type_accuracy: 0.9962\n",
      "Epoch 59/180\n",
      "3155/3155 [==============================] - 0s 90us/sample - loss: 0.2654 - wine_quality_loss: 0.2501 - wine_type_loss: 0.0158 - wine_quality_root_mean_squared_error: 0.5002 - wine_type_accuracy: 0.9971 - val_loss: 0.3376 - val_wine_quality_loss: 0.3126 - val_wine_type_loss: 0.0243 - val_wine_quality_root_mean_squared_error: 0.5595 - val_wine_type_accuracy: 0.9962\n",
      "Epoch 60/180\n",
      "3155/3155 [==============================] - 0s 91us/sample - loss: 0.2655 - wine_quality_loss: 0.2501 - wine_type_loss: 0.0149 - wine_quality_root_mean_squared_error: 0.5005 - wine_type_accuracy: 0.9971 - val_loss: 0.3453 - val_wine_quality_loss: 0.3204 - val_wine_type_loss: 0.0243 - val_wine_quality_root_mean_squared_error: 0.5662 - val_wine_type_accuracy: 0.9962\n",
      "Epoch 61/180\n",
      "3155/3155 [==============================] - 0s 88us/sample - loss: 0.2643 - wine_quality_loss: 0.2494 - wine_type_loss: 0.0149 - wine_quality_root_mean_squared_error: 0.4993 - wine_type_accuracy: 0.9971 - val_loss: 0.3478 - val_wine_quality_loss: 0.3224 - val_wine_type_loss: 0.0244 - val_wine_quality_root_mean_squared_error: 0.5684 - val_wine_type_accuracy: 0.9962\n",
      "Epoch 62/180\n",
      "3155/3155 [==============================] - 0s 75us/sample - loss: 0.2644 - wine_quality_loss: 0.2496 - wine_type_loss: 0.0148 - wine_quality_root_mean_squared_error: 0.4995 - wine_type_accuracy: 0.9971 - val_loss: 0.3437 - val_wine_quality_loss: 0.3187 - val_wine_type_loss: 0.0243 - val_wine_quality_root_mean_squared_error: 0.5649 - val_wine_type_accuracy: 0.9962\n",
      "Epoch 63/180\n",
      "3155/3155 [==============================] - 0s 88us/sample - loss: 0.2643 - wine_quality_loss: 0.2497 - wine_type_loss: 0.0148 - wine_quality_root_mean_squared_error: 0.4995 - wine_type_accuracy: 0.9971 - val_loss: 0.3462 - val_wine_quality_loss: 0.3209 - val_wine_type_loss: 0.0243 - val_wine_quality_root_mean_squared_error: 0.5671 - val_wine_type_accuracy: 0.9962\n",
      "Epoch 64/180\n",
      "3155/3155 [==============================] - 0s 72us/sample - loss: 0.2634 - wine_quality_loss: 0.2490 - wine_type_loss: 0.0147 - wine_quality_root_mean_squared_error: 0.4986 - wine_type_accuracy: 0.9971 - val_loss: 0.3462 - val_wine_quality_loss: 0.3212 - val_wine_type_loss: 0.0243 - val_wine_quality_root_mean_squared_error: 0.5671 - val_wine_type_accuracy: 0.9962\n",
      "Epoch 65/180\n",
      "3155/3155 [==============================] - 0s 89us/sample - loss: 0.2630 - wine_quality_loss: 0.2484 - wine_type_loss: 0.0147 - wine_quality_root_mean_squared_error: 0.4983 - wine_type_accuracy: 0.9971 - val_loss: 0.3375 - val_wine_quality_loss: 0.3125 - val_wine_type_loss: 0.0243 - val_wine_quality_root_mean_squared_error: 0.5593 - val_wine_type_accuracy: 0.9962\n",
      "Epoch 66/180\n",
      "3155/3155 [==============================] - 0s 87us/sample - loss: 0.2631 - wine_quality_loss: 0.2485 - wine_type_loss: 0.0145 - wine_quality_root_mean_squared_error: 0.4985 - wine_type_accuracy: 0.9971 - val_loss: 0.3454 - val_wine_quality_loss: 0.3200 - val_wine_type_loss: 0.0244 - val_wine_quality_root_mean_squared_error: 0.5662 - val_wine_type_accuracy: 0.9962\n",
      "Epoch 67/180\n",
      "3155/3155 [==============================] - 0s 74us/sample - loss: 0.2621 - wine_quality_loss: 0.2475 - wine_type_loss: 0.0146 - wine_quality_root_mean_squared_error: 0.4974 - wine_type_accuracy: 0.9971 - val_loss: 0.3443 - val_wine_quality_loss: 0.3190 - val_wine_type_loss: 0.0243 - val_wine_quality_root_mean_squared_error: 0.5654 - val_wine_type_accuracy: 0.9962\n",
      "Epoch 68/180\n",
      "3155/3155 [==============================] - 0s 87us/sample - loss: 0.2629 - wine_quality_loss: 0.2485 - wine_type_loss: 0.0145 - wine_quality_root_mean_squared_error: 0.4984 - wine_type_accuracy: 0.9971 - val_loss: 0.3414 - val_wine_quality_loss: 0.3162 - val_wine_type_loss: 0.0244 - val_wine_quality_root_mean_squared_error: 0.5627 - val_wine_type_accuracy: 0.9962\n",
      "Epoch 69/180\n",
      "3155/3155 [==============================] - 0s 73us/sample - loss: 0.2618 - wine_quality_loss: 0.2479 - wine_type_loss: 0.0145 - wine_quality_root_mean_squared_error: 0.4973 - wine_type_accuracy: 0.9971 - val_loss: 0.3441 - val_wine_quality_loss: 0.3188 - val_wine_type_loss: 0.0244 - val_wine_quality_root_mean_squared_error: 0.5651 - val_wine_type_accuracy: 0.9962\n",
      "Epoch 70/180\n",
      "3155/3155 [==============================] - 0s 89us/sample - loss: 0.2622 - wine_quality_loss: 0.2475 - wine_type_loss: 0.0144 - wine_quality_root_mean_squared_error: 0.4978 - wine_type_accuracy: 0.9971 - val_loss: 0.3466 - val_wine_quality_loss: 0.3212 - val_wine_type_loss: 0.0243 - val_wine_quality_root_mean_squared_error: 0.5674 - val_wine_type_accuracy: 0.9962\n",
      "Epoch 71/180\n",
      "3155/3155 [==============================] - 0s 90us/sample - loss: 0.2613 - wine_quality_loss: 0.2476 - wine_type_loss: 0.0144 - wine_quality_root_mean_squared_error: 0.4969 - wine_type_accuracy: 0.9971 - val_loss: 0.3407 - val_wine_quality_loss: 0.3154 - val_wine_type_loss: 0.0244 - val_wine_quality_root_mean_squared_error: 0.5621 - val_wine_type_accuracy: 0.9962\n",
      "Epoch 72/180\n",
      "3155/3155 [==============================] - 0s 73us/sample - loss: 0.2614 - wine_quality_loss: 0.2470 - wine_type_loss: 0.0142 - wine_quality_root_mean_squared_error: 0.4970 - wine_type_accuracy: 0.9971 - val_loss: 0.3430 - val_wine_quality_loss: 0.3177 - val_wine_type_loss: 0.0244 - val_wine_quality_root_mean_squared_error: 0.5641 - val_wine_type_accuracy: 0.9962\n",
      "Epoch 73/180\n",
      "3155/3155 [==============================] - 0s 90us/sample - loss: 0.2618 - wine_quality_loss: 0.2473 - wine_type_loss: 0.0143 - wine_quality_root_mean_squared_error: 0.4974 - wine_type_accuracy: 0.9971 - val_loss: 0.3466 - val_wine_quality_loss: 0.3216 - val_wine_type_loss: 0.0244 - val_wine_quality_root_mean_squared_error: 0.5674 - val_wine_type_accuracy: 0.9962\n",
      "Epoch 74/180\n",
      "3155/3155 [==============================] - 0s 87us/sample - loss: 0.2604 - wine_quality_loss: 0.2458 - wine_type_loss: 0.0143 - wine_quality_root_mean_squared_error: 0.4961 - wine_type_accuracy: 0.9971 - val_loss: 0.3390 - val_wine_quality_loss: 0.3139 - val_wine_type_loss: 0.0244 - val_wine_quality_root_mean_squared_error: 0.5606 - val_wine_type_accuracy: 0.9962\n",
      "Epoch 75/180\n",
      "3155/3155 [==============================] - 0s 77us/sample - loss: 0.2602 - wine_quality_loss: 0.2455 - wine_type_loss: 0.0141 - wine_quality_root_mean_squared_error: 0.4961 - wine_type_accuracy: 0.9971 - val_loss: 0.3438 - val_wine_quality_loss: 0.3188 - val_wine_type_loss: 0.0244 - val_wine_quality_root_mean_squared_error: 0.5650 - val_wine_type_accuracy: 0.9962\n",
      "Epoch 76/180\n",
      "3155/3155 [==============================] - 0s 97us/sample - loss: 0.2610 - wine_quality_loss: 0.2471 - wine_type_loss: 0.0149 - wine_quality_root_mean_squared_error: 0.4968 - wine_type_accuracy: 0.9971 - val_loss: 0.3442 - val_wine_quality_loss: 0.3188 - val_wine_type_loss: 0.0243 - val_wine_quality_root_mean_squared_error: 0.5653 - val_wine_type_accuracy: 0.9962\n",
      "Epoch 77/180\n",
      "3155/3155 [==============================] - 0s 91us/sample - loss: 0.2599 - wine_quality_loss: 0.2455 - wine_type_loss: 0.0141 - wine_quality_root_mean_squared_error: 0.4957 - wine_type_accuracy: 0.9971 - val_loss: 0.3437 - val_wine_quality_loss: 0.3184 - val_wine_type_loss: 0.0244 - val_wine_quality_root_mean_squared_error: 0.5648 - val_wine_type_accuracy: 0.9962\n",
      "Epoch 78/180\n",
      "3155/3155 [==============================] - 0s 90us/sample - loss: 0.2589 - wine_quality_loss: 0.2448 - wine_type_loss: 0.0140 - wine_quality_root_mean_squared_error: 0.4948 - wine_type_accuracy: 0.9971 - val_loss: 0.3423 - val_wine_quality_loss: 0.3176 - val_wine_type_loss: 0.0243 - val_wine_quality_root_mean_squared_error: 0.5636 - val_wine_type_accuracy: 0.9962\n",
      "Epoch 79/180\n",
      "3155/3155 [==============================] - 0s 95us/sample - loss: 0.2598 - wine_quality_loss: 0.2454 - wine_type_loss: 0.0140 - wine_quality_root_mean_squared_error: 0.4957 - wine_type_accuracy: 0.9971 - val_loss: 0.3403 - val_wine_quality_loss: 0.3152 - val_wine_type_loss: 0.0243 - val_wine_quality_root_mean_squared_error: 0.5619 - val_wine_type_accuracy: 0.9962\n",
      "Epoch 80/180\n",
      "3155/3155 [==============================] - 0s 88us/sample - loss: 0.2596 - wine_quality_loss: 0.2458 - wine_type_loss: 0.0139 - wine_quality_root_mean_squared_error: 0.4956 - wine_type_accuracy: 0.9971 - val_loss: 0.3420 - val_wine_quality_loss: 0.3169 - val_wine_type_loss: 0.0244 - val_wine_quality_root_mean_squared_error: 0.5633 - val_wine_type_accuracy: 0.9962\n",
      "Epoch 81/180\n",
      "3155/3155 [==============================] - 0s 76us/sample - loss: 0.2585 - wine_quality_loss: 0.2450 - wine_type_loss: 0.0138 - wine_quality_root_mean_squared_error: 0.4946 - wine_type_accuracy: 0.9971 - val_loss: 0.3468 - val_wine_quality_loss: 0.3214 - val_wine_type_loss: 0.0245 - val_wine_quality_root_mean_squared_error: 0.5674 - val_wine_type_accuracy: 0.9962\n",
      "Epoch 82/180\n",
      "3155/3155 [==============================] - 0s 91us/sample - loss: 0.2584 - wine_quality_loss: 0.2441 - wine_type_loss: 0.0138 - wine_quality_root_mean_squared_error: 0.4945 - wine_type_accuracy: 0.9971 - val_loss: 0.3442 - val_wine_quality_loss: 0.3189 - val_wine_type_loss: 0.0245 - val_wine_quality_root_mean_squared_error: 0.5651 - val_wine_type_accuracy: 0.9962\n",
      "Epoch 83/180\n",
      "3155/3155 [==============================] - 0s 88us/sample - loss: 0.2587 - wine_quality_loss: 0.2449 - wine_type_loss: 0.0137 - wine_quality_root_mean_squared_error: 0.4949 - wine_type_accuracy: 0.9971 - val_loss: 0.3478 - val_wine_quality_loss: 0.3227 - val_wine_type_loss: 0.0245 - val_wine_quality_root_mean_squared_error: 0.5684 - val_wine_type_accuracy: 0.9962\n",
      "Epoch 84/180\n",
      "3155/3155 [==============================] - 0s 74us/sample - loss: 0.2579 - wine_quality_loss: 0.2439 - wine_type_loss: 0.0137 - wine_quality_root_mean_squared_error: 0.4942 - wine_type_accuracy: 0.9971 - val_loss: 0.3426 - val_wine_quality_loss: 0.3175 - val_wine_type_loss: 0.0244 - val_wine_quality_root_mean_squared_error: 0.5638 - val_wine_type_accuracy: 0.9962\n",
      "Epoch 85/180\n",
      "3155/3155 [==============================] - 0s 92us/sample - loss: 0.2569 - wine_quality_loss: 0.2433 - wine_type_loss: 0.0153 - wine_quality_root_mean_squared_error: 0.4932 - wine_type_accuracy: 0.9971 - val_loss: 0.3424 - val_wine_quality_loss: 0.3172 - val_wine_type_loss: 0.0245 - val_wine_quality_root_mean_squared_error: 0.5636 - val_wine_type_accuracy: 0.9962\n",
      "Epoch 86/180\n",
      "3155/3155 [==============================] - 0s 89us/sample - loss: 0.2565 - wine_quality_loss: 0.2429 - wine_type_loss: 0.0135 - wine_quality_root_mean_squared_error: 0.4929 - wine_type_accuracy: 0.9971 - val_loss: 0.3401 - val_wine_quality_loss: 0.3147 - val_wine_type_loss: 0.0245 - val_wine_quality_root_mean_squared_error: 0.5615 - val_wine_type_accuracy: 0.9962\n",
      "Epoch 87/180\n",
      "3155/3155 [==============================] - 0s 75us/sample - loss: 0.2571 - wine_quality_loss: 0.2437 - wine_type_loss: 0.0135 - wine_quality_root_mean_squared_error: 0.4935 - wine_type_accuracy: 0.9971 - val_loss: 0.3398 - val_wine_quality_loss: 0.3146 - val_wine_type_loss: 0.0244 - val_wine_quality_root_mean_squared_error: 0.5613 - val_wine_type_accuracy: 0.9962\n",
      "Epoch 88/180\n",
      "3155/3155 [==============================] - 0s 95us/sample - loss: 0.2565 - wine_quality_loss: 0.2434 - wine_type_loss: 0.0135 - wine_quality_root_mean_squared_error: 0.4929 - wine_type_accuracy: 0.9971 - val_loss: 0.3410 - val_wine_quality_loss: 0.3160 - val_wine_type_loss: 0.0244 - val_wine_quality_root_mean_squared_error: 0.5624 - val_wine_type_accuracy: 0.9962\n",
      "Epoch 89/180\n",
      "3155/3155 [==============================] - 0s 90us/sample - loss: 0.2562 - wine_quality_loss: 0.2429 - wine_type_loss: 0.0134 - wine_quality_root_mean_squared_error: 0.4927 - wine_type_accuracy: 0.9971 - val_loss: 0.3462 - val_wine_quality_loss: 0.3209 - val_wine_type_loss: 0.0244 - val_wine_quality_root_mean_squared_error: 0.5670 - val_wine_type_accuracy: 0.9962\n",
      "Epoch 90/180\n",
      "3155/3155 [==============================] - 0s 88us/sample - loss: 0.2556 - wine_quality_loss: 0.2419 - wine_type_loss: 0.0134 - wine_quality_root_mean_squared_error: 0.4921 - wine_type_accuracy: 0.9971 - val_loss: 0.3415 - val_wine_quality_loss: 0.3162 - val_wine_type_loss: 0.0245 - val_wine_quality_root_mean_squared_error: 0.5627 - val_wine_type_accuracy: 0.9962\n",
      "Epoch 91/180\n",
      "3155/3155 [==============================] - 0s 75us/sample - loss: 0.2553 - wine_quality_loss: 0.2416 - wine_type_loss: 0.0133 - wine_quality_root_mean_squared_error: 0.4919 - wine_type_accuracy: 0.9971 - val_loss: 0.3505 - val_wine_quality_loss: 0.3254 - val_wine_type_loss: 0.0243 - val_wine_quality_root_mean_squared_error: 0.5708 - val_wine_type_accuracy: 0.9962\n",
      "Epoch 92/180\n",
      "3155/3155 [==============================] - 0s 89us/sample - loss: 0.2552 - wine_quality_loss: 0.2420 - wine_type_loss: 0.0132 - wine_quality_root_mean_squared_error: 0.4919 - wine_type_accuracy: 0.9971 - val_loss: 0.3406 - val_wine_quality_loss: 0.3155 - val_wine_type_loss: 0.0244 - val_wine_quality_root_mean_squared_error: 0.5621 - val_wine_type_accuracy: 0.9962\n",
      "Epoch 93/180\n",
      "3155/3155 [==============================] - 0s 90us/sample - loss: 0.2556 - wine_quality_loss: 0.2423 - wine_type_loss: 0.0132 - wine_quality_root_mean_squared_error: 0.4923 - wine_type_accuracy: 0.9971 - val_loss: 0.3410 - val_wine_quality_loss: 0.3160 - val_wine_type_loss: 0.0244 - val_wine_quality_root_mean_squared_error: 0.5624 - val_wine_type_accuracy: 0.9962\n",
      "Epoch 94/180\n",
      "3155/3155 [==============================] - 0s 74us/sample - loss: 0.2541 - wine_quality_loss: 0.2410 - wine_type_loss: 0.0132 - wine_quality_root_mean_squared_error: 0.4908 - wine_type_accuracy: 0.9971 - val_loss: 0.3430 - val_wine_quality_loss: 0.3179 - val_wine_type_loss: 0.0244 - val_wine_quality_root_mean_squared_error: 0.5641 - val_wine_type_accuracy: 0.9962\n",
      "Epoch 95/180\n",
      "3155/3155 [==============================] - 0s 89us/sample - loss: 0.2541 - wine_quality_loss: 0.2408 - wine_type_loss: 0.0131 - wine_quality_root_mean_squared_error: 0.4909 - wine_type_accuracy: 0.9971 - val_loss: 0.3471 - val_wine_quality_loss: 0.3219 - val_wine_type_loss: 0.0244 - val_wine_quality_root_mean_squared_error: 0.5678 - val_wine_type_accuracy: 0.9962\n",
      "Epoch 96/180\n",
      "3155/3155 [==============================] - 0s 89us/sample - loss: 0.2537 - wine_quality_loss: 0.2402 - wine_type_loss: 0.0131 - wine_quality_root_mean_squared_error: 0.4905 - wine_type_accuracy: 0.9971 - val_loss: 0.3449 - val_wine_quality_loss: 0.3196 - val_wine_type_loss: 0.0244 - val_wine_quality_root_mean_squared_error: 0.5658 - val_wine_type_accuracy: 0.9962\n",
      "Epoch 97/180\n",
      "3155/3155 [==============================] - 0s 73us/sample - loss: 0.2537 - wine_quality_loss: 0.2410 - wine_type_loss: 0.0134 - wine_quality_root_mean_squared_error: 0.4905 - wine_type_accuracy: 0.9971 - val_loss: 0.3392 - val_wine_quality_loss: 0.3139 - val_wine_type_loss: 0.0245 - val_wine_quality_root_mean_squared_error: 0.5607 - val_wine_type_accuracy: 0.9962\n",
      "Epoch 98/180\n",
      "3155/3155 [==============================] - 0s 87us/sample - loss: 0.2524 - wine_quality_loss: 0.2396 - wine_type_loss: 0.0130 - wine_quality_root_mean_squared_error: 0.4893 - wine_type_accuracy: 0.9971 - val_loss: 0.3449 - val_wine_quality_loss: 0.3195 - val_wine_type_loss: 0.0244 - val_wine_quality_root_mean_squared_error: 0.5658 - val_wine_type_accuracy: 0.9962\n",
      "Epoch 99/180\n",
      "3155/3155 [==============================] - 0s 75us/sample - loss: 0.2521 - wine_quality_loss: 0.2392 - wine_type_loss: 0.0129 - wine_quality_root_mean_squared_error: 0.4891 - wine_type_accuracy: 0.9971 - val_loss: 0.3410 - val_wine_quality_loss: 0.3159 - val_wine_type_loss: 0.0246 - val_wine_quality_root_mean_squared_error: 0.5623 - val_wine_type_accuracy: 0.9962\n",
      "Epoch 100/180\n",
      "3155/3155 [==============================] - 0s 88us/sample - loss: 0.2520 - wine_quality_loss: 0.2385 - wine_type_loss: 0.0130 - wine_quality_root_mean_squared_error: 0.4888 - wine_type_accuracy: 0.9971 - val_loss: 0.3422 - val_wine_quality_loss: 0.3172 - val_wine_type_loss: 0.0246 - val_wine_quality_root_mean_squared_error: 0.5633 - val_wine_type_accuracy: 0.9962\n",
      "Epoch 101/180\n",
      "3155/3155 [==============================] - 0s 88us/sample - loss: 0.2524 - wine_quality_loss: 0.2395 - wine_type_loss: 0.0129 - wine_quality_root_mean_squared_error: 0.4894 - wine_type_accuracy: 0.9971 - val_loss: 0.3499 - val_wine_quality_loss: 0.3244 - val_wine_type_loss: 0.0245 - val_wine_quality_root_mean_squared_error: 0.5702 - val_wine_type_accuracy: 0.9962\n",
      "Epoch 102/180\n",
      "3155/3155 [==============================] - 0s 71us/sample - loss: 0.2508 - wine_quality_loss: 0.2377 - wine_type_loss: 0.0135 - wine_quality_root_mean_squared_error: 0.4878 - wine_type_accuracy: 0.9971 - val_loss: 0.3464 - val_wine_quality_loss: 0.3211 - val_wine_type_loss: 0.0245 - val_wine_quality_root_mean_squared_error: 0.5671 - val_wine_type_accuracy: 0.9962\n",
      "Epoch 103/180\n",
      "3155/3155 [==============================] - 0s 88us/sample - loss: 0.2512 - wine_quality_loss: 0.2384 - wine_type_loss: 0.0128 - wine_quality_root_mean_squared_error: 0.4882 - wine_type_accuracy: 0.9971 - val_loss: 0.3486 - val_wine_quality_loss: 0.3235 - val_wine_type_loss: 0.0245 - val_wine_quality_root_mean_squared_error: 0.5690 - val_wine_type_accuracy: 0.9962\n",
      "Epoch 104/180\n",
      "3155/3155 [==============================] - 0s 73us/sample - loss: 0.2517 - wine_quality_loss: 0.2391 - wine_type_loss: 0.0127 - wine_quality_root_mean_squared_error: 0.4889 - wine_type_accuracy: 0.9971 - val_loss: 0.3482 - val_wine_quality_loss: 0.3226 - val_wine_type_loss: 0.0246 - val_wine_quality_root_mean_squared_error: 0.5686 - val_wine_type_accuracy: 0.9962\n",
      "Epoch 105/180\n",
      "3155/3155 [==============================] - 0s 88us/sample - loss: 0.2501 - wine_quality_loss: 0.2381 - wine_type_loss: 0.0126 - wine_quality_root_mean_squared_error: 0.4873 - wine_type_accuracy: 0.9971 - val_loss: 0.3420 - val_wine_quality_loss: 0.3165 - val_wine_type_loss: 0.0248 - val_wine_quality_root_mean_squared_error: 0.5629 - val_wine_type_accuracy: 0.9962\n",
      "Epoch 106/180\n",
      "3155/3155 [==============================] - 0s 71us/sample - loss: 0.2502 - wine_quality_loss: 0.2375 - wine_type_loss: 0.0127 - wine_quality_root_mean_squared_error: 0.4873 - wine_type_accuracy: 0.9971 - val_loss: 0.3508 - val_wine_quality_loss: 0.3254 - val_wine_type_loss: 0.0246 - val_wine_quality_root_mean_squared_error: 0.5708 - val_wine_type_accuracy: 0.9962\n",
      "Epoch 107/180\n",
      "3155/3155 [==============================] - 0s 89us/sample - loss: 0.2498 - wine_quality_loss: 0.2376 - wine_type_loss: 0.0126 - wine_quality_root_mean_squared_error: 0.4871 - wine_type_accuracy: 0.9971 - val_loss: 0.3423 - val_wine_quality_loss: 0.3170 - val_wine_type_loss: 0.0246 - val_wine_quality_root_mean_squared_error: 0.5633 - val_wine_type_accuracy: 0.9962\n",
      "Epoch 108/180\n",
      "3155/3155 [==============================] - 0s 88us/sample - loss: 0.2496 - wine_quality_loss: 0.2374 - wine_type_loss: 0.0125 - wine_quality_root_mean_squared_error: 0.4868 - wine_type_accuracy: 0.9971 - val_loss: 0.3440 - val_wine_quality_loss: 0.3187 - val_wine_type_loss: 0.0246 - val_wine_quality_root_mean_squared_error: 0.5648 - val_wine_type_accuracy: 0.9962\n",
      "Epoch 109/180\n",
      "3155/3155 [==============================] - 0s 73us/sample - loss: 0.2495 - wine_quality_loss: 0.2367 - wine_type_loss: 0.0124 - wine_quality_root_mean_squared_error: 0.4869 - wine_type_accuracy: 0.9971 - val_loss: 0.3427 - val_wine_quality_loss: 0.3174 - val_wine_type_loss: 0.0247 - val_wine_quality_root_mean_squared_error: 0.5636 - val_wine_type_accuracy: 0.9962\n",
      "Epoch 110/180\n",
      "3155/3155 [==============================] - 0s 90us/sample - loss: 0.2496 - wine_quality_loss: 0.2369 - wine_type_loss: 0.0124 - wine_quality_root_mean_squared_error: 0.4870 - wine_type_accuracy: 0.9971 - val_loss: 0.3441 - val_wine_quality_loss: 0.3188 - val_wine_type_loss: 0.0246 - val_wine_quality_root_mean_squared_error: 0.5650 - val_wine_type_accuracy: 0.9962\n",
      "Epoch 111/180\n",
      "3155/3155 [==============================] - 0s 72us/sample - loss: 0.2485 - wine_quality_loss: 0.2364 - wine_type_loss: 0.0124 - wine_quality_root_mean_squared_error: 0.4859 - wine_type_accuracy: 0.9971 - val_loss: 0.3514 - val_wine_quality_loss: 0.3259 - val_wine_type_loss: 0.0246 - val_wine_quality_root_mean_squared_error: 0.5714 - val_wine_type_accuracy: 0.9962\n",
      "Epoch 112/180\n",
      "3155/3155 [==============================] - 0s 90us/sample - loss: 0.2484 - wine_quality_loss: 0.2361 - wine_type_loss: 0.0123 - wine_quality_root_mean_squared_error: 0.4859 - wine_type_accuracy: 0.9971 - val_loss: 0.3518 - val_wine_quality_loss: 0.3264 - val_wine_type_loss: 0.0247 - val_wine_quality_root_mean_squared_error: 0.5717 - val_wine_type_accuracy: 0.9962\n",
      "Epoch 113/180\n",
      "3155/3155 [==============================] - 0s 88us/sample - loss: 0.2484 - wine_quality_loss: 0.2362 - wine_type_loss: 0.0123 - wine_quality_root_mean_squared_error: 0.4858 - wine_type_accuracy: 0.9971 - val_loss: 0.3449 - val_wine_quality_loss: 0.3196 - val_wine_type_loss: 0.0246 - val_wine_quality_root_mean_squared_error: 0.5656 - val_wine_type_accuracy: 0.9962\n",
      "Epoch 114/180\n",
      "3155/3155 [==============================] - 0s 74us/sample - loss: 0.2477 - wine_quality_loss: 0.2355 - wine_type_loss: 0.0122 - wine_quality_root_mean_squared_error: 0.4852 - wine_type_accuracy: 0.9971 - val_loss: 0.3458 - val_wine_quality_loss: 0.3204 - val_wine_type_loss: 0.0245 - val_wine_quality_root_mean_squared_error: 0.5665 - val_wine_type_accuracy: 0.9962\n",
      "Epoch 115/180\n",
      "3155/3155 [==============================] - 0s 90us/sample - loss: 0.2474 - wine_quality_loss: 0.2352 - wine_type_loss: 0.0121 - wine_quality_root_mean_squared_error: 0.4850 - wine_type_accuracy: 0.9971 - val_loss: 0.3480 - val_wine_quality_loss: 0.3226 - val_wine_type_loss: 0.0247 - val_wine_quality_root_mean_squared_error: 0.5683 - val_wine_type_accuracy: 0.9962\n",
      "Epoch 116/180\n",
      "3155/3155 [==============================] - 0s 90us/sample - loss: 0.2482 - wine_quality_loss: 0.2358 - wine_type_loss: 0.0124 - wine_quality_root_mean_squared_error: 0.4857 - wine_type_accuracy: 0.9971 - val_loss: 0.3441 - val_wine_quality_loss: 0.3182 - val_wine_type_loss: 0.0248 - val_wine_quality_root_mean_squared_error: 0.5647 - val_wine_type_accuracy: 0.9949\n",
      "Epoch 117/180\n",
      "3155/3155 [==============================] - 0s 74us/sample - loss: 0.2469 - wine_quality_loss: 0.2349 - wine_type_loss: 0.0122 - wine_quality_root_mean_squared_error: 0.4844 - wine_type_accuracy: 0.9971 - val_loss: 0.3439 - val_wine_quality_loss: 0.3185 - val_wine_type_loss: 0.0246 - val_wine_quality_root_mean_squared_error: 0.5648 - val_wine_type_accuracy: 0.9962\n",
      "Epoch 118/180\n",
      "3155/3155 [==============================] - 0s 92us/sample - loss: 0.2468 - wine_quality_loss: 0.2349 - wine_type_loss: 0.0121 - wine_quality_root_mean_squared_error: 0.4844 - wine_type_accuracy: 0.9971 - val_loss: 0.3455 - val_wine_quality_loss: 0.3201 - val_wine_type_loss: 0.0246 - val_wine_quality_root_mean_squared_error: 0.5662 - val_wine_type_accuracy: 0.9962\n",
      "Epoch 119/180\n",
      "3155/3155 [==============================] - 0s 91us/sample - loss: 0.2467 - wine_quality_loss: 0.2349 - wine_type_loss: 0.0120 - wine_quality_root_mean_squared_error: 0.4845 - wine_type_accuracy: 0.9971 - val_loss: 0.3467 - val_wine_quality_loss: 0.3212 - val_wine_type_loss: 0.0247 - val_wine_quality_root_mean_squared_error: 0.5672 - val_wine_type_accuracy: 0.9962\n",
      "Epoch 120/180\n",
      "3155/3155 [==============================] - 0s 92us/sample - loss: 0.2454 - wine_quality_loss: 0.2337 - wine_type_loss: 0.0120 - wine_quality_root_mean_squared_error: 0.4831 - wine_type_accuracy: 0.9971 - val_loss: 0.3459 - val_wine_quality_loss: 0.3205 - val_wine_type_loss: 0.0247 - val_wine_quality_root_mean_squared_error: 0.5665 - val_wine_type_accuracy: 0.9962\n",
      "Epoch 121/180\n",
      "3155/3155 [==============================] - 0s 73us/sample - loss: 0.2461 - wine_quality_loss: 0.2342 - wine_type_loss: 0.0120 - wine_quality_root_mean_squared_error: 0.4838 - wine_type_accuracy: 0.9975 - val_loss: 0.3443 - val_wine_quality_loss: 0.3190 - val_wine_type_loss: 0.0248 - val_wine_quality_root_mean_squared_error: 0.5650 - val_wine_type_accuracy: 0.9949\n",
      "Epoch 122/180\n",
      "3155/3155 [==============================] - 0s 89us/sample - loss: 0.2452 - wine_quality_loss: 0.2330 - wine_type_loss: 0.0119 - wine_quality_root_mean_squared_error: 0.4830 - wine_type_accuracy: 0.9971 - val_loss: 0.3513 - val_wine_quality_loss: 0.3257 - val_wine_type_loss: 0.0247 - val_wine_quality_root_mean_squared_error: 0.5712 - val_wine_type_accuracy: 0.9962\n",
      "Epoch 123/180\n",
      "3155/3155 [==============================] - 0s 88us/sample - loss: 0.2445 - wine_quality_loss: 0.2324 - wine_type_loss: 0.0119 - wine_quality_root_mean_squared_error: 0.4823 - wine_type_accuracy: 0.9971 - val_loss: 0.3426 - val_wine_quality_loss: 0.3175 - val_wine_type_loss: 0.0247 - val_wine_quality_root_mean_squared_error: 0.5636 - val_wine_type_accuracy: 0.9949\n",
      "Epoch 124/180\n",
      "3155/3155 [==============================] - 0s 75us/sample - loss: 0.2445 - wine_quality_loss: 0.2324 - wine_type_loss: 0.0118 - wine_quality_root_mean_squared_error: 0.4823 - wine_type_accuracy: 0.9975 - val_loss: 0.3437 - val_wine_quality_loss: 0.3183 - val_wine_type_loss: 0.0246 - val_wine_quality_root_mean_squared_error: 0.5646 - val_wine_type_accuracy: 0.9949\n",
      "Epoch 125/180\n",
      "3155/3155 [==============================] - 0s 92us/sample - loss: 0.2449 - wine_quality_loss: 0.2329 - wine_type_loss: 0.0118 - wine_quality_root_mean_squared_error: 0.4828 - wine_type_accuracy: 0.9975 - val_loss: 0.3494 - val_wine_quality_loss: 0.3243 - val_wine_type_loss: 0.0246 - val_wine_quality_root_mean_squared_error: 0.5696 - val_wine_type_accuracy: 0.9949\n",
      "Epoch 126/180\n",
      "3155/3155 [==============================] - 0s 89us/sample - loss: 0.2443 - wine_quality_loss: 0.2320 - wine_type_loss: 0.0117 - wine_quality_root_mean_squared_error: 0.4823 - wine_type_accuracy: 0.9975 - val_loss: 0.3477 - val_wine_quality_loss: 0.3226 - val_wine_type_loss: 0.0247 - val_wine_quality_root_mean_squared_error: 0.5680 - val_wine_type_accuracy: 0.9949\n",
      "Epoch 127/180\n",
      "3155/3155 [==============================] - 0s 73us/sample - loss: 0.2444 - wine_quality_loss: 0.2325 - wine_type_loss: 0.0117 - wine_quality_root_mean_squared_error: 0.4823 - wine_type_accuracy: 0.9971 - val_loss: 0.3441 - val_wine_quality_loss: 0.3187 - val_wine_type_loss: 0.0247 - val_wine_quality_root_mean_squared_error: 0.5649 - val_wine_type_accuracy: 0.9949\n",
      "Epoch 128/180\n",
      "3155/3155 [==============================] - 0s 91us/sample - loss: 0.2434 - wine_quality_loss: 0.2317 - wine_type_loss: 0.0116 - wine_quality_root_mean_squared_error: 0.4815 - wine_type_accuracy: 0.9975 - val_loss: 0.3452 - val_wine_quality_loss: 0.3198 - val_wine_type_loss: 0.0248 - val_wine_quality_root_mean_squared_error: 0.5658 - val_wine_type_accuracy: 0.9949\n",
      "Epoch 129/180\n",
      "3155/3155 [==============================] - 0s 90us/sample - loss: 0.2438 - wine_quality_loss: 0.2327 - wine_type_loss: 0.0115 - wine_quality_root_mean_squared_error: 0.4819 - wine_type_accuracy: 0.9975 - val_loss: 0.3528 - val_wine_quality_loss: 0.3273 - val_wine_type_loss: 0.0248 - val_wine_quality_root_mean_squared_error: 0.5725 - val_wine_type_accuracy: 0.9949\n",
      "Epoch 130/180\n",
      "3155/3155 [==============================] - 0s 87us/sample - loss: 0.2423 - wine_quality_loss: 0.2307 - wine_type_loss: 0.0116 - wine_quality_root_mean_squared_error: 0.4804 - wine_type_accuracy: 0.9975 - val_loss: 0.3435 - val_wine_quality_loss: 0.3180 - val_wine_type_loss: 0.0248 - val_wine_quality_root_mean_squared_error: 0.5643 - val_wine_type_accuracy: 0.9949\n",
      "Epoch 131/180\n",
      "3155/3155 [==============================] - 0s 77us/sample - loss: 0.2426 - wine_quality_loss: 0.2309 - wine_type_loss: 0.0115 - wine_quality_root_mean_squared_error: 0.4806 - wine_type_accuracy: 0.9975 - val_loss: 0.3471 - val_wine_quality_loss: 0.3213 - val_wine_type_loss: 0.0249 - val_wine_quality_root_mean_squared_error: 0.5673 - val_wine_type_accuracy: 0.9949\n",
      "Epoch 132/180\n",
      "3155/3155 [==============================] - 0s 92us/sample - loss: 0.2428 - wine_quality_loss: 0.2311 - wine_type_loss: 0.0114 - wine_quality_root_mean_squared_error: 0.4810 - wine_type_accuracy: 0.9975 - val_loss: 0.3492 - val_wine_quality_loss: 0.3234 - val_wine_type_loss: 0.0248 - val_wine_quality_root_mean_squared_error: 0.5693 - val_wine_type_accuracy: 0.9949\n",
      "Epoch 133/180\n",
      "3155/3155 [==============================] - 0s 91us/sample - loss: 0.2429 - wine_quality_loss: 0.2315 - wine_type_loss: 0.0114 - wine_quality_root_mean_squared_error: 0.4811 - wine_type_accuracy: 0.9975 - val_loss: 0.3574 - val_wine_quality_loss: 0.3316 - val_wine_type_loss: 0.0249 - val_wine_quality_root_mean_squared_error: 0.5764 - val_wine_type_accuracy: 0.9949\n",
      "Epoch 134/180\n",
      "3155/3155 [==============================] - 0s 89us/sample - loss: 0.2422 - wine_quality_loss: 0.2308 - wine_type_loss: 0.0114 - wine_quality_root_mean_squared_error: 0.4804 - wine_type_accuracy: 0.9975 - val_loss: 0.3445 - val_wine_quality_loss: 0.3190 - val_wine_type_loss: 0.0249 - val_wine_quality_root_mean_squared_error: 0.5651 - val_wine_type_accuracy: 0.9949\n",
      "Epoch 135/180\n",
      "3155/3155 [==============================] - 0s 97us/sample - loss: 0.2402 - wine_quality_loss: 0.2290 - wine_type_loss: 0.0113 - wine_quality_root_mean_squared_error: 0.4784 - wine_type_accuracy: 0.9975 - val_loss: 0.3571 - val_wine_quality_loss: 0.3312 - val_wine_type_loss: 0.0250 - val_wine_quality_root_mean_squared_error: 0.5760 - val_wine_type_accuracy: 0.9949\n",
      "Epoch 136/180\n",
      "3155/3155 [==============================] - 0s 74us/sample - loss: 0.2415 - wine_quality_loss: 0.2303 - wine_type_loss: 0.0113 - wine_quality_root_mean_squared_error: 0.4798 - wine_type_accuracy: 0.9975 - val_loss: 0.3476 - val_wine_quality_loss: 0.3218 - val_wine_type_loss: 0.0250 - val_wine_quality_root_mean_squared_error: 0.5677 - val_wine_type_accuracy: 0.9949\n",
      "Epoch 137/180\n",
      "3155/3155 [==============================] - 0s 91us/sample - loss: 0.2410 - wine_quality_loss: 0.2306 - wine_type_loss: 0.0113 - wine_quality_root_mean_squared_error: 0.4793 - wine_type_accuracy: 0.9975 - val_loss: 0.3504 - val_wine_quality_loss: 0.3244 - val_wine_type_loss: 0.0252 - val_wine_quality_root_mean_squared_error: 0.5700 - val_wine_type_accuracy: 0.9949\n",
      "Epoch 138/180\n",
      "3155/3155 [==============================] - 0s 92us/sample - loss: 0.2392 - wine_quality_loss: 0.2283 - wine_type_loss: 0.0113 - wine_quality_root_mean_squared_error: 0.4774 - wine_type_accuracy: 0.9975 - val_loss: 0.3458 - val_wine_quality_loss: 0.3198 - val_wine_type_loss: 0.0250 - val_wine_quality_root_mean_squared_error: 0.5661 - val_wine_type_accuracy: 0.9949\n",
      "Epoch 139/180\n",
      "3155/3155 [==============================] - 0s 90us/sample - loss: 0.2399 - wine_quality_loss: 0.2286 - wine_type_loss: 0.0112 - wine_quality_root_mean_squared_error: 0.4782 - wine_type_accuracy: 0.9975 - val_loss: 0.3498 - val_wine_quality_loss: 0.3239 - val_wine_type_loss: 0.0249 - val_wine_quality_root_mean_squared_error: 0.5697 - val_wine_type_accuracy: 0.9949\n",
      "Epoch 140/180\n",
      "3155/3155 [==============================] - 0s 75us/sample - loss: 0.2391 - wine_quality_loss: 0.2278 - wine_type_loss: 0.0109 - wine_quality_root_mean_squared_error: 0.4776 - wine_type_accuracy: 0.9975 - val_loss: 0.3465 - val_wine_quality_loss: 0.3207 - val_wine_type_loss: 0.0254 - val_wine_quality_root_mean_squared_error: 0.5664 - val_wine_type_accuracy: 0.9949\n",
      "Epoch 141/180\n",
      "3155/3155 [==============================] - 0s 91us/sample - loss: 0.2408 - wine_quality_loss: 0.2297 - wine_type_loss: 0.0111 - wine_quality_root_mean_squared_error: 0.4792 - wine_type_accuracy: 0.9975 - val_loss: 0.3478 - val_wine_quality_loss: 0.3218 - val_wine_type_loss: 0.0253 - val_wine_quality_root_mean_squared_error: 0.5676 - val_wine_type_accuracy: 0.9949\n",
      "Epoch 142/180\n",
      "3155/3155 [==============================] - 0s 89us/sample - loss: 0.2384 - wine_quality_loss: 0.2273 - wine_type_loss: 0.0110 - wine_quality_root_mean_squared_error: 0.4768 - wine_type_accuracy: 0.9975 - val_loss: 0.3469 - val_wine_quality_loss: 0.3211 - val_wine_type_loss: 0.0252 - val_wine_quality_root_mean_squared_error: 0.5669 - val_wine_type_accuracy: 0.9949\n",
      "Epoch 143/180\n",
      "3155/3155 [==============================] - 0s 75us/sample - loss: 0.2398 - wine_quality_loss: 0.2285 - wine_type_loss: 0.0109 - wine_quality_root_mean_squared_error: 0.4783 - wine_type_accuracy: 0.9975 - val_loss: 0.3474 - val_wine_quality_loss: 0.3211 - val_wine_type_loss: 0.0253 - val_wine_quality_root_mean_squared_error: 0.5673 - val_wine_type_accuracy: 0.9949\n",
      "Epoch 144/180\n",
      "3155/3155 [==============================] - 0s 91us/sample - loss: 0.2388 - wine_quality_loss: 0.2276 - wine_type_loss: 0.0110 - wine_quality_root_mean_squared_error: 0.4772 - wine_type_accuracy: 0.9975 - val_loss: 0.3445 - val_wine_quality_loss: 0.3186 - val_wine_type_loss: 0.0250 - val_wine_quality_root_mean_squared_error: 0.5649 - val_wine_type_accuracy: 0.9949\n",
      "Epoch 145/180\n",
      "3155/3155 [==============================] - 0s 91us/sample - loss: 0.2381 - wine_quality_loss: 0.2268 - wine_type_loss: 0.0109 - wine_quality_root_mean_squared_error: 0.4766 - wine_type_accuracy: 0.9975 - val_loss: 0.3485 - val_wine_quality_loss: 0.3229 - val_wine_type_loss: 0.0250 - val_wine_quality_root_mean_squared_error: 0.5685 - val_wine_type_accuracy: 0.9949\n",
      "Epoch 146/180\n",
      "3155/3155 [==============================] - 0s 91us/sample - loss: 0.2394 - wine_quality_loss: 0.2284 - wine_type_loss: 0.0108 - wine_quality_root_mean_squared_error: 0.4780 - wine_type_accuracy: 0.9975 - val_loss: 0.3467 - val_wine_quality_loss: 0.3208 - val_wine_type_loss: 0.0251 - val_wine_quality_root_mean_squared_error: 0.5669 - val_wine_type_accuracy: 0.9949\n",
      "Epoch 147/180\n",
      "3155/3155 [==============================] - 0s 92us/sample - loss: 0.2386 - wine_quality_loss: 0.2280 - wine_type_loss: 0.0108 - wine_quality_root_mean_squared_error: 0.4772 - wine_type_accuracy: 0.9975 - val_loss: 0.3484 - val_wine_quality_loss: 0.3223 - val_wine_type_loss: 0.0250 - val_wine_quality_root_mean_squared_error: 0.5684 - val_wine_type_accuracy: 0.9949\n",
      "Epoch 148/180\n",
      "3155/3155 [==============================] - 0s 76us/sample - loss: 0.2381 - wine_quality_loss: 0.2278 - wine_type_loss: 0.0108 - wine_quality_root_mean_squared_error: 0.4767 - wine_type_accuracy: 0.9975 - val_loss: 0.3504 - val_wine_quality_loss: 0.3244 - val_wine_type_loss: 0.0250 - val_wine_quality_root_mean_squared_error: 0.5701 - val_wine_type_accuracy: 0.9949\n",
      "Epoch 149/180\n",
      "3155/3155 [==============================] - 0s 92us/sample - loss: 0.2375 - wine_quality_loss: 0.2266 - wine_type_loss: 0.0107 - wine_quality_root_mean_squared_error: 0.4762 - wine_type_accuracy: 0.9975 - val_loss: 0.3475 - val_wine_quality_loss: 0.3220 - val_wine_type_loss: 0.0250 - val_wine_quality_root_mean_squared_error: 0.5676 - val_wine_type_accuracy: 0.9949\n",
      "Epoch 150/180\n",
      "3155/3155 [==============================] - 0s 91us/sample - loss: 0.2375 - wine_quality_loss: 0.2266 - wine_type_loss: 0.0107 - wine_quality_root_mean_squared_error: 0.4762 - wine_type_accuracy: 0.9975 - val_loss: 0.3470 - val_wine_quality_loss: 0.3210 - val_wine_type_loss: 0.0252 - val_wine_quality_root_mean_squared_error: 0.5670 - val_wine_type_accuracy: 0.9949\n",
      "Epoch 151/180\n",
      "3155/3155 [==============================] - 0s 89us/sample - loss: 0.2357 - wine_quality_loss: 0.2248 - wine_type_loss: 0.0107 - wine_quality_root_mean_squared_error: 0.4743 - wine_type_accuracy: 0.9975 - val_loss: 0.3454 - val_wine_quality_loss: 0.3195 - val_wine_type_loss: 0.0251 - val_wine_quality_root_mean_squared_error: 0.5656 - val_wine_type_accuracy: 0.9949\n",
      "Epoch 152/180\n",
      "3155/3155 [==============================] - 0s 76us/sample - loss: 0.2373 - wine_quality_loss: 0.2263 - wine_type_loss: 0.0107 - wine_quality_root_mean_squared_error: 0.4761 - wine_type_accuracy: 0.9975 - val_loss: 0.3448 - val_wine_quality_loss: 0.3189 - val_wine_type_loss: 0.0250 - val_wine_quality_root_mean_squared_error: 0.5653 - val_wine_type_accuracy: 0.9949\n",
      "Epoch 153/180\n",
      "3155/3155 [==============================] - 0s 92us/sample - loss: 0.2356 - wine_quality_loss: 0.2252 - wine_type_loss: 0.0106 - wine_quality_root_mean_squared_error: 0.4743 - wine_type_accuracy: 0.9975 - val_loss: 0.3506 - val_wine_quality_loss: 0.3246 - val_wine_type_loss: 0.0250 - val_wine_quality_root_mean_squared_error: 0.5704 - val_wine_type_accuracy: 0.9949\n",
      "Epoch 154/180\n",
      "3155/3155 [==============================] - 0s 95us/sample - loss: 0.2364 - wine_quality_loss: 0.2255 - wine_type_loss: 0.0106 - wine_quality_root_mean_squared_error: 0.4751 - wine_type_accuracy: 0.9975 - val_loss: 0.3505 - val_wine_quality_loss: 0.3245 - val_wine_type_loss: 0.0251 - val_wine_quality_root_mean_squared_error: 0.5701 - val_wine_type_accuracy: 0.9949\n",
      "Epoch 155/180\n",
      "3155/3155 [==============================] - 0s 93us/sample - loss: 0.2350 - wine_quality_loss: 0.2245 - wine_type_loss: 0.0105 - wine_quality_root_mean_squared_error: 0.4738 - wine_type_accuracy: 0.9975 - val_loss: 0.3469 - val_wine_quality_loss: 0.3210 - val_wine_type_loss: 0.0252 - val_wine_quality_root_mean_squared_error: 0.5669 - val_wine_type_accuracy: 0.9949\n",
      "Epoch 156/180\n",
      "3155/3155 [==============================] - 0s 90us/sample - loss: 0.2354 - wine_quality_loss: 0.2249 - wine_type_loss: 0.0104 - wine_quality_root_mean_squared_error: 0.4743 - wine_type_accuracy: 0.9975 - val_loss: 0.3472 - val_wine_quality_loss: 0.3211 - val_wine_type_loss: 0.0253 - val_wine_quality_root_mean_squared_error: 0.5670 - val_wine_type_accuracy: 0.9949\n",
      "Epoch 157/180\n",
      "3155/3155 [==============================] - 0s 73us/sample - loss: 0.2351 - wine_quality_loss: 0.2249 - wine_type_loss: 0.0103 - wine_quality_root_mean_squared_error: 0.4740 - wine_type_accuracy: 0.9975 - val_loss: 0.3432 - val_wine_quality_loss: 0.3173 - val_wine_type_loss: 0.0252 - val_wine_quality_root_mean_squared_error: 0.5637 - val_wine_type_accuracy: 0.9949\n",
      "Epoch 158/180\n",
      "3155/3155 [==============================] - 0s 91us/sample - loss: 0.2350 - wine_quality_loss: 0.2244 - wine_type_loss: 0.0104 - wine_quality_root_mean_squared_error: 0.4739 - wine_type_accuracy: 0.9975 - val_loss: 0.3534 - val_wine_quality_loss: 0.3276 - val_wine_type_loss: 0.0252 - val_wine_quality_root_mean_squared_error: 0.5726 - val_wine_type_accuracy: 0.9949\n",
      "Epoch 159/180\n",
      "3155/3155 [==============================] - 0s 91us/sample - loss: 0.2331 - wine_quality_loss: 0.2225 - wine_type_loss: 0.0103 - wine_quality_root_mean_squared_error: 0.4720 - wine_type_accuracy: 0.9975 - val_loss: 0.3487 - val_wine_quality_loss: 0.3226 - val_wine_type_loss: 0.0253 - val_wine_quality_root_mean_squared_error: 0.5684 - val_wine_type_accuracy: 0.9949\n",
      "Epoch 160/180\n",
      "3155/3155 [==============================] - 0s 92us/sample - loss: 0.2347 - wine_quality_loss: 0.2244 - wine_type_loss: 0.0103 - wine_quality_root_mean_squared_error: 0.4736 - wine_type_accuracy: 0.9975 - val_loss: 0.3519 - val_wine_quality_loss: 0.3258 - val_wine_type_loss: 0.0252 - val_wine_quality_root_mean_squared_error: 0.5713 - val_wine_type_accuracy: 0.9949\n",
      "Epoch 161/180\n",
      "3155/3155 [==============================] - 0s 74us/sample - loss: 0.2336 - wine_quality_loss: 0.2234 - wine_type_loss: 0.0102 - wine_quality_root_mean_squared_error: 0.4726 - wine_type_accuracy: 0.9975 - val_loss: 0.3640 - val_wine_quality_loss: 0.3378 - val_wine_type_loss: 0.0253 - val_wine_quality_root_mean_squared_error: 0.5816 - val_wine_type_accuracy: 0.9949\n",
      "Epoch 162/180\n",
      "3155/3155 [==============================] - 0s 89us/sample - loss: 0.2342 - wine_quality_loss: 0.2239 - wine_type_loss: 0.0102 - wine_quality_root_mean_squared_error: 0.4733 - wine_type_accuracy: 0.9975 - val_loss: 0.3502 - val_wine_quality_loss: 0.3240 - val_wine_type_loss: 0.0255 - val_wine_quality_root_mean_squared_error: 0.5695 - val_wine_type_accuracy: 0.9949\n",
      "Epoch 163/180\n",
      "3155/3155 [==============================] - 0s 90us/sample - loss: 0.2343 - wine_quality_loss: 0.2241 - wine_type_loss: 0.0102 - wine_quality_root_mean_squared_error: 0.4734 - wine_type_accuracy: 0.9975 - val_loss: 0.3509 - val_wine_quality_loss: 0.3246 - val_wine_type_loss: 0.0253 - val_wine_quality_root_mean_squared_error: 0.5703 - val_wine_type_accuracy: 0.9949\n",
      "Epoch 164/180\n",
      "3155/3155 [==============================] - 0s 76us/sample - loss: 0.2333 - wine_quality_loss: 0.2233 - wine_type_loss: 0.0101 - wine_quality_root_mean_squared_error: 0.4723 - wine_type_accuracy: 0.9975 - val_loss: 0.3501 - val_wine_quality_loss: 0.3240 - val_wine_type_loss: 0.0255 - val_wine_quality_root_mean_squared_error: 0.5695 - val_wine_type_accuracy: 0.9949\n",
      "Epoch 165/180\n",
      "3155/3155 [==============================] - 0s 76us/sample - loss: 0.2333 - wine_quality_loss: 0.2235 - wine_type_loss: 0.0101 - wine_quality_root_mean_squared_error: 0.4724 - wine_type_accuracy: 0.9975 - val_loss: 0.3557 - val_wine_quality_loss: 0.3298 - val_wine_type_loss: 0.0253 - val_wine_quality_root_mean_squared_error: 0.5745 - val_wine_type_accuracy: 0.9949\n",
      "Epoch 166/180\n",
      "3155/3155 [==============================] - 0s 90us/sample - loss: 0.2327 - wine_quality_loss: 0.2226 - wine_type_loss: 0.0100 - wine_quality_root_mean_squared_error: 0.4719 - wine_type_accuracy: 0.9975 - val_loss: 0.3548 - val_wine_quality_loss: 0.3281 - val_wine_type_loss: 0.0256 - val_wine_quality_root_mean_squared_error: 0.5734 - val_wine_type_accuracy: 0.9949\n",
      "Epoch 167/180\n",
      "3155/3155 [==============================] - 0s 71us/sample - loss: 0.2326 - wine_quality_loss: 0.2228 - wine_type_loss: 0.0101 - wine_quality_root_mean_squared_error: 0.4716 - wine_type_accuracy: 0.9975 - val_loss: 0.3581 - val_wine_quality_loss: 0.3316 - val_wine_type_loss: 0.0256 - val_wine_quality_root_mean_squared_error: 0.5763 - val_wine_type_accuracy: 0.9949\n",
      "Epoch 168/180\n",
      "3155/3155 [==============================] - 0s 89us/sample - loss: 0.2320 - wine_quality_loss: 0.2219 - wine_type_loss: 0.0101 - wine_quality_root_mean_squared_error: 0.4710 - wine_type_accuracy: 0.9975 - val_loss: 0.3466 - val_wine_quality_loss: 0.3205 - val_wine_type_loss: 0.0255 - val_wine_quality_root_mean_squared_error: 0.5664 - val_wine_type_accuracy: 0.9949\n",
      "Epoch 169/180\n",
      "3155/3155 [==============================] - 0s 86us/sample - loss: 0.2316 - wine_quality_loss: 0.2217 - wine_type_loss: 0.0099 - wine_quality_root_mean_squared_error: 0.4708 - wine_type_accuracy: 0.9975 - val_loss: 0.3545 - val_wine_quality_loss: 0.3278 - val_wine_type_loss: 0.0257 - val_wine_quality_root_mean_squared_error: 0.5731 - val_wine_type_accuracy: 0.9949\n",
      "Epoch 170/180\n",
      "3155/3155 [==============================] - 0s 75us/sample - loss: 0.2319 - wine_quality_loss: 0.2216 - wine_type_loss: 0.0099 - wine_quality_root_mean_squared_error: 0.4712 - wine_type_accuracy: 0.9975 - val_loss: 0.3470 - val_wine_quality_loss: 0.3206 - val_wine_type_loss: 0.0254 - val_wine_quality_root_mean_squared_error: 0.5667 - val_wine_type_accuracy: 0.9949\n",
      "Epoch 171/180\n",
      "3155/3155 [==============================] - 0s 90us/sample - loss: 0.2307 - wine_quality_loss: 0.2207 - wine_type_loss: 0.0098 - wine_quality_root_mean_squared_error: 0.4699 - wine_type_accuracy: 0.9975 - val_loss: 0.3583 - val_wine_quality_loss: 0.3322 - val_wine_type_loss: 0.0255 - val_wine_quality_root_mean_squared_error: 0.5766 - val_wine_type_accuracy: 0.9949\n",
      "Epoch 172/180\n",
      "3155/3155 [==============================] - 0s 72us/sample - loss: 0.2306 - wine_quality_loss: 0.2204 - wine_type_loss: 0.0098 - wine_quality_root_mean_squared_error: 0.4698 - wine_type_accuracy: 0.9975 - val_loss: 0.3531 - val_wine_quality_loss: 0.3267 - val_wine_type_loss: 0.0257 - val_wine_quality_root_mean_squared_error: 0.5719 - val_wine_type_accuracy: 0.9949\n",
      "Epoch 173/180\n",
      "3155/3155 [==============================] - 0s 76us/sample - loss: 0.2304 - wine_quality_loss: 0.2205 - wine_type_loss: 0.0098 - wine_quality_root_mean_squared_error: 0.4697 - wine_type_accuracy: 0.9975 - val_loss: 0.3658 - val_wine_quality_loss: 0.3391 - val_wine_type_loss: 0.0257 - val_wine_quality_root_mean_squared_error: 0.5829 - val_wine_type_accuracy: 0.9949\n",
      "Epoch 174/180\n",
      "3155/3155 [==============================] - 0s 88us/sample - loss: 0.2294 - wine_quality_loss: 0.2197 - wine_type_loss: 0.0097 - wine_quality_root_mean_squared_error: 0.4687 - wine_type_accuracy: 0.9975 - val_loss: 0.3529 - val_wine_quality_loss: 0.3266 - val_wine_type_loss: 0.0256 - val_wine_quality_root_mean_squared_error: 0.5718 - val_wine_type_accuracy: 0.9949\n",
      "Epoch 175/180\n",
      "3155/3155 [==============================] - 0s 73us/sample - loss: 0.2301 - wine_quality_loss: 0.2200 - wine_type_loss: 0.0097 - wine_quality_root_mean_squared_error: 0.4693 - wine_type_accuracy: 0.9975 - val_loss: 0.3504 - val_wine_quality_loss: 0.3237 - val_wine_type_loss: 0.0255 - val_wine_quality_root_mean_squared_error: 0.5697 - val_wine_type_accuracy: 0.9949\n",
      "Epoch 176/180\n",
      "3155/3155 [==============================] - 0s 91us/sample - loss: 0.2305 - wine_quality_loss: 0.2205 - wine_type_loss: 0.0103 - wine_quality_root_mean_squared_error: 0.4699 - wine_type_accuracy: 0.9975 - val_loss: 0.3488 - val_wine_quality_loss: 0.3228 - val_wine_type_loss: 0.0254 - val_wine_quality_root_mean_squared_error: 0.5684 - val_wine_type_accuracy: 0.9949\n",
      "Epoch 177/180\n",
      "3155/3155 [==============================] - 0s 91us/sample - loss: 0.2283 - wine_quality_loss: 0.2184 - wine_type_loss: 0.0096 - wine_quality_root_mean_squared_error: 0.4676 - wine_type_accuracy: 0.9975 - val_loss: 0.3468 - val_wine_quality_loss: 0.3206 - val_wine_type_loss: 0.0255 - val_wine_quality_root_mean_squared_error: 0.5665 - val_wine_type_accuracy: 0.9949\n",
      "Epoch 178/180\n",
      "3155/3155 [==============================] - 0s 88us/sample - loss: 0.2289 - wine_quality_loss: 0.2194 - wine_type_loss: 0.0096 - wine_quality_root_mean_squared_error: 0.4683 - wine_type_accuracy: 0.9975 - val_loss: 0.3525 - val_wine_quality_loss: 0.3259 - val_wine_type_loss: 0.0255 - val_wine_quality_root_mean_squared_error: 0.5715 - val_wine_type_accuracy: 0.9949\n",
      "Epoch 179/180\n",
      "3155/3155 [==============================] - 0s 76us/sample - loss: 0.2278 - wine_quality_loss: 0.2191 - wine_type_loss: 0.0095 - wine_quality_root_mean_squared_error: 0.4672 - wine_type_accuracy: 0.9975 - val_loss: 0.3501 - val_wine_quality_loss: 0.3235 - val_wine_type_loss: 0.0257 - val_wine_quality_root_mean_squared_error: 0.5693 - val_wine_type_accuracy: 0.9949\n",
      "Epoch 180/180\n",
      "3155/3155 [==============================] - 0s 90us/sample - loss: 0.2280 - wine_quality_loss: 0.2186 - wine_type_loss: 0.0094 - wine_quality_root_mean_squared_error: 0.4676 - wine_type_accuracy: 0.9975 - val_loss: 0.3484 - val_wine_quality_loss: 0.3218 - val_wine_type_loss: 0.0260 - val_wine_quality_root_mean_squared_error: 0.5676 - val_wine_type_accuracy: 0.9949\n"
     ]
    }
   ],
   "source": [
    "## Please uncomment all lines in this cell and replace those marked with `# YOUR CODE HERE`.\n",
    "## You can select all lines in this code cell with Ctrl+A (Windows/Linux) or Cmd+A (Mac), then press Ctrl+/ (Windows/Linux) or Cmd+/ (Mac) to uncomment.\n",
    "\n",
    "\n",
    "\n",
    "history = model.fit(norm_train_X, train_Y,\n",
    "                     epochs = 180, validation_data=(norm_val_X, val_Y))"
   ]
  },
  {
   "cell_type": "code",
   "execution_count": 150,
   "metadata": {
    "deletable": false,
    "editable": false,
    "nbgrader": {
     "cell_type": "code",
     "checksum": "fadad8896eda9c8c2115970724b15508",
     "grade": true,
     "grade_id": "cell-eb4d5b41bef8f0ab",
     "locked": true,
     "points": 1,
     "schema_version": 3,
     "solution": false,
     "task": false
    }
   },
   "outputs": [
    {
     "name": "stdout",
     "output_type": "stream",
     "text": [
      "\u001b[92m All public tests passed\n"
     ]
    }
   ],
   "source": [
    "utils.test_history(history)"
   ]
  },
  {
   "cell_type": "code",
   "execution_count": 151,
   "metadata": {
    "colab": {},
    "colab_type": "code",
    "id": "CubF2J2gSf6q"
   },
   "outputs": [
    {
     "name": "stdout",
     "output_type": "stream",
     "text": [
      "789/789 [==============================] - 0s 21us/sample - loss: 0.3484 - wine_quality_loss: 0.3218 - wine_type_loss: 0.0260 - wine_quality_root_mean_squared_error: 0.5676 - wine_type_accuracy: 0.9949\n",
      "\n",
      "loss: 0.3484476462138772\n",
      "wine_quality_loss: 0.32175707817077637\n",
      "wine_type_loss: 0.02597309835255146\n",
      "wine_quality_rmse: 0.5675569772720337\n",
      "wine_type_accuracy: 0.9949302673339844\n"
     ]
    }
   ],
   "source": [
    "# Gather the training metrics\n",
    "loss, wine_quality_loss, wine_type_loss, wine_quality_rmse, wine_type_accuracy = model.evaluate(x=norm_val_X, y=val_Y)\n",
    "\n",
    "print()\n",
    "print(f'loss: {loss}')\n",
    "print(f'wine_quality_loss: {wine_quality_loss}')\n",
    "print(f'wine_type_loss: {wine_type_loss}')\n",
    "print(f'wine_quality_rmse: {wine_quality_rmse}')\n",
    "print(f'wine_type_accuracy: {wine_type_accuracy}')\n",
    "\n",
    "# EXPECTED VALUES\n",
    "# ~ 0.30 - 0.38\n",
    "# ~ 0.30 - 0.38\n",
    "# ~ 0.018 - 0.030\n",
    "# ~ 0.50 - 0.62\n",
    "# ~ 0.97 - 1.0\n",
    "\n",
    "# Example:\n",
    "#0.3657050132751465\n",
    "#0.3463745415210724\n",
    "#0.019330406561493874\n",
    "#0.5885359048843384\n",
    "#0.9974651336669922"
   ]
  },
  {
   "cell_type": "markdown",
   "metadata": {
    "colab_type": "text",
    "id": "gPtTGAP4usnm"
   },
   "source": [
    "## Analyze the Model Performance\n",
    "\n",
    "Note that the model has two outputs. The output at index 0 is quality and index 1 is wine type\n",
    "\n",
    "So, round the quality predictions to the nearest integer."
   ]
  },
  {
   "cell_type": "code",
   "execution_count": 152,
   "metadata": {
    "colab": {},
    "colab_type": "code",
    "id": "tBq9PEeAaW-Y"
   },
   "outputs": [],
   "source": [
    "predictions = model.predict(norm_test_X)\n",
    "quality_pred = predictions[0]\n",
    "type_pred = predictions[1]"
   ]
  },
  {
   "cell_type": "code",
   "execution_count": 153,
   "metadata": {
    "colab": {},
    "colab_type": "code",
    "id": "YLhgTR4xTIxj"
   },
   "outputs": [
    {
     "name": "stdout",
     "output_type": "stream",
     "text": [
      "[5.6619754]\n"
     ]
    }
   ],
   "source": [
    "print(quality_pred[0])\n",
    "\n",
    "# EXPECTED OUTPUT\n",
    "# 5.6 - 6.0"
   ]
  },
  {
   "cell_type": "code",
   "execution_count": 154,
   "metadata": {
    "colab": {},
    "colab_type": "code",
    "id": "MPi-eYfGTUXi"
   },
   "outputs": [
    {
     "name": "stdout",
     "output_type": "stream",
     "text": [
      "[7.9168836e-05]\n",
      "[0.9999999]\n"
     ]
    }
   ],
   "source": [
    "print(type_pred[0])\n",
    "print(type_pred[944])\n",
    "\n",
    "# EXPECTED OUTPUT\n",
    "# A number close to zero\n",
    "# A number close to or equal to 1"
   ]
  },
  {
   "cell_type": "markdown",
   "metadata": {
    "colab_type": "text",
    "id": "Kohk-9C6vt_s"
   },
   "source": [
    "### Plot Utilities\n",
    "\n",
    "We define a few utilities to visualize the model performance."
   ]
  },
  {
   "cell_type": "code",
   "execution_count": 155,
   "metadata": {
    "colab": {},
    "colab_type": "code",
    "id": "62gEOFUhn6aQ"
   },
   "outputs": [],
   "source": [
    "def plot_metrics(metric_name, title, ylim=5):\n",
    "    plt.title(title)\n",
    "    plt.ylim(0,ylim)\n",
    "    plt.plot(history.history[metric_name],color='blue',label=metric_name)\n",
    "    plt.plot(history.history['val_' + metric_name],color='green',label='val_' + metric_name)\n"
   ]
  },
  {
   "cell_type": "code",
   "execution_count": 156,
   "metadata": {
    "colab": {},
    "colab_type": "code",
    "id": "6rfgSx7uz5dj"
   },
   "outputs": [],
   "source": [
    "def plot_confusion_matrix(y_true, y_pred, title='', labels=[0,1]):\n",
    "    cm = confusion_matrix(y_true, y_pred)\n",
    "    fig = plt.figure()\n",
    "    ax = fig.add_subplot(111)\n",
    "    cax = ax.matshow(cm)\n",
    "    plt.title('Confusion matrix of the classifier')\n",
    "    fig.colorbar(cax)\n",
    "    ax.set_xticklabels([''] + labels)\n",
    "    ax.set_yticklabels([''] + labels)\n",
    "    plt.xlabel('Predicted')\n",
    "    plt.ylabel('True')\n",
    "    fmt = 'd'\n",
    "    thresh = cm.max() / 2.\n",
    "    for i, j in itertools.product(range(cm.shape[0]), range(cm.shape[1])):\n",
    "          plt.text(j, i, format(cm[i, j], fmt),\n",
    "                  horizontalalignment=\"center\",\n",
    "                  color=\"black\" if cm[i, j] > thresh else \"white\")\n",
    "    plt.show()"
   ]
  },
  {
   "cell_type": "code",
   "execution_count": 157,
   "metadata": {
    "colab": {},
    "colab_type": "code",
    "id": "dfVLIqi017Vf"
   },
   "outputs": [],
   "source": [
    "def plot_diff(y_true, y_pred, title = '' ):\n",
    "    plt.scatter(y_true, y_pred)\n",
    "    plt.title(title)\n",
    "    plt.xlabel('True Values')\n",
    "    plt.ylabel('Predictions')\n",
    "    plt.axis('equal')\n",
    "    plt.axis('square')\n",
    "    plt.plot([-100, 100], [-100, 100])\n",
    "    return plt"
   ]
  },
  {
   "cell_type": "markdown",
   "metadata": {
    "colab_type": "text",
    "id": "8sd1jdFbwE0I"
   },
   "source": [
    "### Plots for Metrics"
   ]
  },
  {
   "cell_type": "code",
   "execution_count": 158,
   "metadata": {
    "colab": {},
    "colab_type": "code",
    "id": "f3MwZ5J1pOfj"
   },
   "outputs": [
    {
     "data": {
      "image/png": "[encoded data removed]",
      "text/plain": [
       "<Figure size 432x288 with 1 Axes>"
      ]
     },
     "metadata": {
      "needs_background": "light"
     },
     "output_type": "display_data"
    }
   ],
   "source": [
    "plot_metrics('wine_quality_root_mean_squared_error', 'RMSE', ylim=2)"
   ]
  },
  {
   "cell_type": "code",
   "execution_count": 159,
   "metadata": {
    "colab": {},
    "colab_type": "code",
    "id": "QIAxEezCppnd"
   },
   "outputs": [
    {
     "data": {
      "image/png": "[encoded data removed]",
      "text/plain": [
       "<Figure size 432x288 with 1 Axes>"
      ]
     },
     "metadata": {
      "needs_background": "light"
     },
     "output_type": "display_data"
    }
   ],
   "source": [
    "plot_metrics('wine_type_loss', 'Wine Type Loss', ylim=0.2)"
   ]
  },
  {
   "cell_type": "markdown",
   "metadata": {
    "colab_type": "text",
    "id": "uYV9AOAMwI9p"
   },
   "source": [
    "### Plots for Confusion Matrix\n",
    "\n",
    "Plot the confusion matrices for wine type. You can see that the model performs well for prediction of wine type from the confusion matrix and the loss metrics."
   ]
  },
  {
   "cell_type": "code",
   "execution_count": 160,
   "metadata": {
    "colab": {},
    "colab_type": "code",
    "id": "C3hvTYxIaf3n"
   },
   "outputs": [
    {
     "data": {
      "image/png": "[encoded data removed]",
      "text/plain": [
       "<Figure size 432x288 with 2 Axes>"
      ]
     },
     "metadata": {
      "needs_background": "light"
     },
     "output_type": "display_data"
    }
   ],
   "source": [
    "plot_confusion_matrix(test_Y[1], np.round(type_pred), title='Wine Type', labels = [0, 1])"
   ]
  },
  {
   "cell_type": "code",
   "execution_count": 161,
   "metadata": {
    "colab": {},
    "colab_type": "code",
    "id": "GW91ym8P2I5y"
   },
   "outputs": [
    {
     "data": {
      "image/png": "[encoded data removed]",
      "text/plain": [
       "<Figure size 432x288 with 1 Axes>"
      ]
     },
     "metadata": {
      "needs_background": "light"
     },
     "output_type": "display_data"
    }
   ],
   "source": [
    "scatter_plot = plot_diff(test_Y[0], quality_pred, title='Type')"
   ]
  },
  {
   "cell_type": "code",
   "execution_count": null,
   "metadata": {},
   "outputs": [],
   "source": []
  }
 ],
 "metadata": {
  "colab": {
   "include_colab_link": true,
   "name": "exercise-answer.ipynb",
   "provenance": []
  },
  "kernelspec": {
   "display_name": "Python 3",
   "language": "python",
   "name": "python3"
  },
  "language_info": {
   "codemirror_mode": {
    "name": "ipython",
    "version": 3
   },
   "file_extension": ".py",
   "mimetype": "text/x-python",
   "name": "python",
   "nbconvert_exporter": "python",
   "pygments_lexer": "ipython3",
   "version": "3.7.6"
  }
 },
 "nbformat": 4,
 "nbformat_minor": 4
}
